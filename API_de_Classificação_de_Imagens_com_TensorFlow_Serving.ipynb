{
  "nbformat": 4,
  "nbformat_minor": 0,
  "metadata": {
    "colab": {
      "provenance": [],
      "include_colab_link": true
    },
    "kernelspec": {
      "name": "python3",
      "display_name": "Python 3"
    },
    "accelerator": "GPU"
  },
  "cells": [
    {
      "cell_type": "markdown",
      "metadata": {
        "id": "view-in-github",
        "colab_type": "text"
      },
      "source": [
        "<a href=\"https://colab.research.google.com/github/pereisergio/TensorFlow-Serving/blob/main/API_de_Classifica%C3%A7%C3%A3o_de_Imagens_com_TensorFlow_Serving.ipynb\" target=\"_parent\"><img src=\"https://colab.research.google.com/assets/colab-badge.svg\" alt=\"Open In Colab\"/></a>"
      ]
    },
    {
      "cell_type": "markdown",
      "metadata": {
        "id": "yCrzPgLp7W1h"
      },
      "source": [
        "## Etapa 1: Instalação das bibliotecas"
      ]
    },
    {
      "cell_type": "markdown",
      "metadata": {
        "id": "qsgbM_R2-ud_"
      },
      "source": [
        "## Etapa 2: Importação das bibliotecas"
      ]
    },
    {
      "cell_type": "markdown",
      "metadata": {
        "id": "90mWV1g6_TSt"
      },
      "source": [
        "## Etapa 3: Pré-processamento"
      ]
    },
    {
      "cell_type": "markdown",
      "metadata": {
        "id": "dJsURBeA_XEe"
      },
      "source": [
        "### Carregando a base de dados"
      ]
    },
    {
      "cell_type": "markdown",
      "metadata": {
        "id": "B_adA5GI_ZGK"
      },
      "source": [
        "### Normalização das imagens"
      ]
    },
    {
      "cell_type": "markdown",
      "metadata": {
        "id": "HO6nL_9sBLPo"
      },
      "source": [
        "## Etapa 4: Definição do modelo\n",
        "\n",
        "NOTA: Estamos usando o mesmo modelo da seção sobre Redes Neurais Convolucionais"
      ]
    },
    {
      "cell_type": "markdown",
      "metadata": {
        "id": "J-7vFhykBgMj"
      },
      "source": [
        "### Compilando o modelo"
      ]
    },
    {
      "cell_type": "markdown",
      "metadata": {
        "id": "JJ1X_hgBBmx9"
      },
      "source": [
        "### Treinando o modelo"
      ]
    },
    {
      "cell_type": "markdown",
      "metadata": {
        "id": "g6k_gnv5BqdT"
      },
      "source": [
        "### Avaliação do modelo"
      ]
    },
    {
      "cell_type": "markdown",
      "metadata": {
        "id": "945L3-2rDjFe"
      },
      "source": [
        "## Etapa 5: Salvando o modelo para produção"
      ]
    },
    {
      "cell_type": "markdown",
      "metadata": {
        "id": "5a5uCiniDmgY"
      },
      "source": [
        "### Criando o diretório para o modelo"
      ]
    },
    {
      "cell_type": "markdown",
      "metadata": {
        "id": "0RA2HuIUDrDQ"
      },
      "source": [
        "### Salvando o modelo para o TensorFlow Serving"
      ]
    },
    {
      "cell_type": "markdown",
      "metadata": {
        "id": "1o8BlXcBFvIm"
      },
      "source": [
        "## Etapa 6: Configuração do ambiente de produção"
      ]
    },
    {
      "cell_type": "markdown",
      "metadata": {
        "id": "rSFWzxOrF0ft"
      },
      "source": [
        "### Exportando o MODEL_DIR para as variáveis de ambiente"
      ]
    },
    {
      "cell_type": "markdown",
      "metadata": {
        "id": "8TXejqj5F5oj"
      },
      "source": [
        "### Executando a API TensorFlow Serving REST"
      ]
    },
    {
      "cell_type": "markdown",
      "metadata": {
        "id": "ICEqKpKUOC2F"
      },
      "source": [
        "## Etapa 7: Criando a primeira requisição POST"
      ]
    },
    {
      "cell_type": "markdown",
      "metadata": {
        "id": "tqOfIBMNOK8p"
      },
      "source": [
        "### Criando o objeto JSON"
      ]
    },
    {
      "cell_type": "markdown",
      "metadata": {
        "id": "KZDKjyfbPoIa"
      },
      "source": [
        "### Enviando a primeira requisição POST para o modelo"
      ]
    },
    {
      "cell_type": "markdown",
      "metadata": {
        "id": "OVN6T3tFR_IQ"
      },
      "source": [
        "## Etapa 8: Enviando a requisição POST para um modelo específico que está armazendo no servidor"
      ]
    }
  ]
}