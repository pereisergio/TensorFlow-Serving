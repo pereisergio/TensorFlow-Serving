{
  "nbformat": 4,
  "nbformat_minor": 0,
  "metadata": {
    "colab": {
      "provenance": [],
      "include_colab_link": true
    },
    "kernelspec": {
      "name": "python3",
      "display_name": "Python 3"
    },
    "accelerator": "GPU"
  },
  "cells": [
    {
      "cell_type": "markdown",
      "metadata": {
        "id": "view-in-github",
        "colab_type": "text"
      },
      "source": [
        "<a href=\"https://colab.research.google.com/github/pereisergio/TensorFlow-Serving/blob/main/API_de_Classifica%C3%A7%C3%A3o_de_Imagens_com_TensorFlow_Serving.ipynb\" target=\"_parent\"><img src=\"https://colab.research.google.com/assets/colab-badge.svg\" alt=\"Open In Colab\"/></a>"
      ]
    },
    {
      "cell_type": "markdown",
      "metadata": {
        "id": "yCrzPgLp7W1h"
      },
      "source": [
        "## Etapa 1: Instalação das bibliotecas"
      ]
    },
    {
      "cell_type": "code",
      "source": [
        "!echo \"deb [arch=amd64] http://storage.googleapis.com/tensorflow-serving-apt stable tensorflow-model-server tensorflow-model-server-universal\" | sudo tee /etc/apt/sources.list.d/tensorflow-serving.list && \\\n",
        "curl https://storage.googleapis.com/tensorflow-serving-apt/tensorflow-serving.release.pub.gpg | sudo apt-key add -"
      ],
      "metadata": {
        "colab": {
          "base_uri": "https://localhost:8080/"
        },
        "id": "My8hiaD6gN6H",
        "outputId": "d42f1496-2ad8-4282-fc63-e76f05c4e876"
      },
      "execution_count": 3,
      "outputs": [
        {
          "output_type": "stream",
          "name": "stdout",
          "text": [
            "deb [arch=amd64] http://storage.googleapis.com/tensorflow-serving-apt stable tensorflow-model-server tensorflow-model-server-universal\n",
            "  % Total    % Received % Xferd  Average Speed   Time    Time     Time  Current\n",
            "                                 Dload  Upload   Total   Spent    Left  Speed\n",
            "\r  0     0    0     0    0     0      0      0 --:--:-- --:--:-- --:--:--     0Warning: apt-key is deprecated. Manage keyring files in trusted.gpg.d instead (see apt-key(8)).\n",
            "\r100  2943  100  2943    0     0  17893      0 --:--:-- --:--:-- --:--:-- 17945\n",
            "OK\n"
          ]
        }
      ]
    },
    {
      "cell_type": "code",
      "source": [
        "!wget 'http://storage.googleapis.com/tensorflow-serving-apt/pool/tensorflow-model-server-universal-2.8.0/t/tensorflow-model-server-universal/tensorflow-model-server-universal_2.8.0_all.deb'\n",
        "!dpkg -i tensorflow-model-server-universal_2.8.0_all.deb"
      ],
      "metadata": {
        "colab": {
          "base_uri": "https://localhost:8080/"
        },
        "id": "7Gg5kwHdhDur",
        "outputId": "5bdadb36-a1dd-44bb-c6f0-6a2c417870a9"
      },
      "execution_count": 40,
      "outputs": [
        {
          "output_type": "stream",
          "name": "stdout",
          "text": [
            "--2024-07-16 17:45:20--  http://storage.googleapis.com/tensorflow-serving-apt/pool/tensorflow-model-server-universal-2.8.0/t/tensorflow-model-server-universal/tensorflow-model-server-universal_2.8.0_all.deb\n",
            "Resolving storage.googleapis.com (storage.googleapis.com)... 142.251.2.207, 74.125.137.207, 142.250.101.207, ...\n",
            "Connecting to storage.googleapis.com (storage.googleapis.com)|142.251.2.207|:80... connected.\n",
            "HTTP request sent, awaiting response... 200 OK\n",
            "Length: 335421916 (320M) [application/x-debian-package]\n",
            "Saving to: ‘tensorflow-model-server-universal_2.8.0_all.deb.2’\n",
            "\n",
            "tensorflow-model-se 100%[===================>] 319.88M  28.6MB/s    in 6.1s    \n",
            "\n",
            "2024-07-16 17:45:26 (52.1 MB/s) - ‘tensorflow-model-server-universal_2.8.0_all.deb.2’ saved [335421916/335421916]\n",
            "\n",
            "\u001b[1mdpkg:\u001b[0m \u001b[1;31merror:\u001b[0m need an action option\n",
            "\n",
            "Type dpkg --help for help about installing and deinstalling packages [*];\n",
            "Use 'apt' or 'aptitude' for user-friendly package management;\n",
            "Type dpkg -Dhelp for a list of dpkg debug flag values;\n",
            "Type dpkg --force-help for a list of forcing options;\n",
            "Type dpkg-deb --help for help about manipulating *.deb files;\n",
            "\n",
            "Options marked [*] produce a lot of output - pipe it through 'less' or 'more' !\n"
          ]
        }
      ]
    },
    {
      "cell_type": "code",
      "source": [
        "!apt-get install tensorflow-model-server"
      ],
      "metadata": {
        "colab": {
          "base_uri": "https://localhost:8080/"
        },
        "id": "b4RP5S0HoTkh",
        "outputId": "5ce973e4-75c6-4a10-953f-b68e4a875a64"
      },
      "execution_count": 41,
      "outputs": [
        {
          "output_type": "stream",
          "name": "stdout",
          "text": [
            "Reading package lists... Done\n",
            "Building dependency tree... Done\n",
            "Reading state information... Done\n",
            "E: Unable to locate package tensorflow-model-server\n"
          ]
        }
      ]
    },
    {
      "cell_type": "code",
      "source": [
        "!pip install requests"
      ],
      "metadata": {
        "colab": {
          "base_uri": "https://localhost:8080/"
        },
        "id": "siyhXWdBhKmJ",
        "outputId": "a156b33d-5f94-47e5-e7b7-0b3b764445a4"
      },
      "execution_count": 5,
      "outputs": [
        {
          "output_type": "stream",
          "name": "stdout",
          "text": [
            "Requirement already satisfied: requests in /usr/local/lib/python3.10/dist-packages (2.31.0)\n",
            "Requirement already satisfied: charset-normalizer<4,>=2 in /usr/local/lib/python3.10/dist-packages (from requests) (3.3.2)\n",
            "Requirement already satisfied: idna<4,>=2.5 in /usr/local/lib/python3.10/dist-packages (from requests) (3.7)\n",
            "Requirement already satisfied: urllib3<3,>=1.21.1 in /usr/local/lib/python3.10/dist-packages (from requests) (2.0.7)\n",
            "Requirement already satisfied: certifi>=2017.4.17 in /usr/local/lib/python3.10/dist-packages (from requests) (2024.7.4)\n"
          ]
        }
      ]
    },
    {
      "cell_type": "markdown",
      "metadata": {
        "id": "qsgbM_R2-ud_"
      },
      "source": [
        "## Etapa 2: Importação das bibliotecas"
      ]
    },
    {
      "cell_type": "code",
      "source": [
        "import os\n",
        "import json\n",
        "import random\n",
        "import requests\n",
        "import subprocess\n",
        "import numpy as np\n",
        "import tensorflow.compat.v1 as tf\n",
        "tf.disable_v2_behavior()\n",
        "import matplotlib.pyplot as plt\n",
        "\n",
        "from tensorflow.keras.datasets import cifar10\n",
        "\n",
        "%matplotlib inline\n",
        "tf.__version__"
      ],
      "metadata": {
        "colab": {
          "base_uri": "https://localhost:8080/",
          "height": 87
        },
        "id": "OGml_ln9hl9p",
        "outputId": "ee4d6f02-7d5d-4af7-e3bf-dab234d3fe75"
      },
      "execution_count": 6,
      "outputs": [
        {
          "output_type": "stream",
          "name": "stderr",
          "text": [
            "WARNING:tensorflow:From /usr/local/lib/python3.10/dist-packages/tensorflow/python/compat/v2_compat.py:108: disable_resource_variables (from tensorflow.python.ops.variable_scope) is deprecated and will be removed in a future version.\n",
            "Instructions for updating:\n",
            "non-resource variables are not supported in the long term\n"
          ]
        },
        {
          "output_type": "execute_result",
          "data": {
            "text/plain": [
              "'2.15.0'"
            ],
            "application/vnd.google.colaboratory.intrinsic+json": {
              "type": "string"
            }
          },
          "metadata": {},
          "execution_count": 6
        }
      ]
    },
    {
      "cell_type": "markdown",
      "metadata": {
        "id": "90mWV1g6_TSt"
      },
      "source": [
        "## Etapa 3: Pré-processamento"
      ]
    },
    {
      "cell_type": "markdown",
      "metadata": {
        "id": "dJsURBeA_XEe"
      },
      "source": [
        "### Carregando a base de dados"
      ]
    },
    {
      "cell_type": "code",
      "source": [
        "(X_train, y_train), (X_test, y_test) = cifar10.load_data()"
      ],
      "metadata": {
        "colab": {
          "base_uri": "https://localhost:8080/"
        },
        "id": "X9OF_i12iPzE",
        "outputId": "c1e9388a-23a5-44ac-d3ff-18c57420cb2c"
      },
      "execution_count": 7,
      "outputs": [
        {
          "output_type": "stream",
          "name": "stdout",
          "text": [
            "Downloading data from https://www.cs.toronto.edu/~kriz/cifar-10-python.tar.gz\n",
            "170498071/170498071 [==============================] - 5s 0us/step\n"
          ]
        }
      ]
    },
    {
      "cell_type": "code",
      "source": [
        "class_name = ['airplane', 'automobile', 'bird', 'cat', 'deer', 'dog', 'frog', 'horse', 'ship', 'truck']"
      ],
      "metadata": {
        "id": "RTk7OofwiVpn"
      },
      "execution_count": 8,
      "outputs": []
    },
    {
      "cell_type": "markdown",
      "metadata": {
        "id": "B_adA5GI_ZGK"
      },
      "source": [
        "### Normalização das imagens"
      ]
    },
    {
      "cell_type": "code",
      "source": [
        "X_train = X_train / 255.0\n",
        "X_test = X_test / 255.0"
      ],
      "metadata": {
        "id": "ILzxI2gRidXh"
      },
      "execution_count": 9,
      "outputs": []
    },
    {
      "cell_type": "code",
      "source": [
        "X_train.shape"
      ],
      "metadata": {
        "colab": {
          "base_uri": "https://localhost:8080/"
        },
        "id": "O8EtXPQ1iknZ",
        "outputId": "0e0ce2a5-0b17-42f5-8c2e-55ae2aafacaa"
      },
      "execution_count": 10,
      "outputs": [
        {
          "output_type": "execute_result",
          "data": {
            "text/plain": [
              "(50000, 32, 32, 3)"
            ]
          },
          "metadata": {},
          "execution_count": 10
        }
      ]
    },
    {
      "cell_type": "code",
      "source": [
        "X_test.shape"
      ],
      "metadata": {
        "colab": {
          "base_uri": "https://localhost:8080/"
        },
        "id": "TNHZz742irVT",
        "outputId": "327ea4fe-619a-4275-e5d9-f5f3dd255ca0"
      },
      "execution_count": 11,
      "outputs": [
        {
          "output_type": "execute_result",
          "data": {
            "text/plain": [
              "(10000, 32, 32, 3)"
            ]
          },
          "metadata": {},
          "execution_count": 11
        }
      ]
    },
    {
      "cell_type": "markdown",
      "metadata": {
        "id": "HO6nL_9sBLPo"
      },
      "source": [
        "## Etapa 4: Definição do modelo\n",
        "\n",
        "NOTA: Estamos usando o mesmo modelo da seção sobre Redes Neurais Convolucionais"
      ]
    },
    {
      "cell_type": "code",
      "source": [
        "model = tf.keras.models.Sequential()\n",
        "model.add(tf.keras.layers.Conv2D(filters=32, kernel_size=3, padding=\"same\", activation=\"relu\", input_shape=[32, 32, 3]))\n",
        "model.add(tf.keras.layers.Conv2D(filters=32, kernel_size=3, padding=\"same\", activation=\"relu\"))\n",
        "model.add(tf.keras.layers.MaxPool2D(pool_size=2, strides=2, padding='valid'))\n",
        "model.add(tf.keras.layers.Conv2D(filters=64, kernel_size=3, padding=\"same\", activation=\"relu\"))\n",
        "model.add(tf.keras.layers.Conv2D(filters=64, kernel_size=3, padding=\"same\", activation=\"relu\"))\n",
        "model.add(tf.keras.layers.MaxPool2D(pool_size=2, strides=2, padding='valid'))\n",
        "model.add(tf.keras.layers.Flatten())\n",
        "model.add(tf.keras.layers.Dense(units=128, activation='relu'))\n",
        "model.add(tf.keras.layers.Dense(units=10, activation='softmax'))"
      ],
      "metadata": {
        "id": "QzuqrQANj5GS"
      },
      "execution_count": 12,
      "outputs": []
    },
    {
      "cell_type": "markdown",
      "metadata": {
        "id": "J-7vFhykBgMj"
      },
      "source": [
        "### Compilando o modelo"
      ]
    },
    {
      "cell_type": "code",
      "source": [
        "model.compile(optimizer='Adam',\n",
        "              loss='sparse_categorical_crossentropy',\n",
        "              metrics=['sparse_categorical_accuracy'])"
      ],
      "metadata": {
        "id": "kv_2M4rGkGtL"
      },
      "execution_count": 13,
      "outputs": []
    },
    {
      "cell_type": "markdown",
      "metadata": {
        "id": "JJ1X_hgBBmx9"
      },
      "source": [
        "### Treinando o modelo"
      ]
    },
    {
      "cell_type": "code",
      "source": [
        "model.fit(X_train,\n",
        "          y_train,\n",
        "          batch_size=32,\n",
        "          epochs=10)"
      ],
      "metadata": {
        "colab": {
          "base_uri": "https://localhost:8080/"
        },
        "id": "_DaPJ6JGkRCn",
        "outputId": "90dbcdae-f0c3-4d3c-ddc5-e45fd5eb8d1b"
      },
      "execution_count": 14,
      "outputs": [
        {
          "output_type": "stream",
          "name": "stdout",
          "text": [
            "Train on 50000 samples\n",
            "Epoch 1/10\n",
            "50000/50000 [==============================] - 11s 210us/sample - loss: 1.4085 - sparse_categorical_accuracy: 0.4919\n",
            "Epoch 2/10\n",
            "50000/50000 [==============================] - 6s 124us/sample - loss: 0.9365 - sparse_categorical_accuracy: 0.6700\n",
            "Epoch 3/10\n",
            "50000/50000 [==============================] - 7s 131us/sample - loss: 0.7536 - sparse_categorical_accuracy: 0.7354\n",
            "Epoch 4/10\n",
            "50000/50000 [==============================] - 6s 127us/sample - loss: 0.6272 - sparse_categorical_accuracy: 0.7803\n",
            "Epoch 5/10\n",
            "50000/50000 [==============================] - 7s 132us/sample - loss: 0.5213 - sparse_categorical_accuracy: 0.8163\n",
            "Epoch 6/10\n",
            "50000/50000 [==============================] - 6s 127us/sample - loss: 0.4231 - sparse_categorical_accuracy: 0.8518\n",
            "Epoch 7/10\n",
            "50000/50000 [==============================] - 7s 130us/sample - loss: 0.3306 - sparse_categorical_accuracy: 0.8826\n",
            "Epoch 8/10\n",
            "50000/50000 [==============================] - 6s 128us/sample - loss: 0.2633 - sparse_categorical_accuracy: 0.9051\n",
            "Epoch 9/10\n",
            "50000/50000 [==============================] - 6s 128us/sample - loss: 0.2085 - sparse_categorical_accuracy: 0.9268\n",
            "Epoch 10/10\n",
            "50000/50000 [==============================] - 7s 130us/sample - loss: 0.1775 - sparse_categorical_accuracy: 0.9366\n"
          ]
        },
        {
          "output_type": "execute_result",
          "data": {
            "text/plain": [
              "<keras.src.callbacks.History at 0x7dd7f62835b0>"
            ]
          },
          "metadata": {},
          "execution_count": 14
        }
      ]
    },
    {
      "cell_type": "markdown",
      "metadata": {
        "id": "g6k_gnv5BqdT"
      },
      "source": [
        "### Avaliação do modelo"
      ]
    },
    {
      "cell_type": "code",
      "source": [
        "test_loss, test_accuracy = model.evaluate(X_test, y_test)\n",
        "print(\"Test accuracy is {}\".format(test_accuracy))"
      ],
      "metadata": {
        "colab": {
          "base_uri": "https://localhost:8080/"
        },
        "id": "ANzaj-PRkf9F",
        "outputId": "c19f0e97-e435-4427-9f9a-9017b04fade9"
      },
      "execution_count": 15,
      "outputs": [
        {
          "output_type": "stream",
          "name": "stderr",
          "text": [
            "/usr/local/lib/python3.10/dist-packages/keras/src/engine/training_v1.py:2335: UserWarning: `Model.state_updates` will be removed in a future version. This property should not be used in TensorFlow 2.0, as `updates` are applied automatically.\n",
            "  updates = self.state_updates\n"
          ]
        },
        {
          "output_type": "stream",
          "name": "stdout",
          "text": [
            "Test accuracy is 0.7143999934196472\n"
          ]
        }
      ]
    },
    {
      "cell_type": "markdown",
      "metadata": {
        "id": "945L3-2rDjFe"
      },
      "source": [
        "## Etapa 5: Salvando o modelo para produção"
      ]
    },
    {
      "cell_type": "markdown",
      "metadata": {
        "id": "5a5uCiniDmgY"
      },
      "source": [
        "### Criando o diretório para o modelo"
      ]
    },
    {
      "cell_type": "code",
      "source": [
        "model_dir = 'model/'\n",
        "version = 1"
      ],
      "metadata": {
        "id": "lB6uBv9IlTtG"
      },
      "execution_count": 16,
      "outputs": []
    },
    {
      "cell_type": "code",
      "source": [
        "export_path = os.path.join(model_dir, str(version))\n",
        "print('export_path = {}\\n'.format(export_path))"
      ],
      "metadata": {
        "colab": {
          "base_uri": "https://localhost:8080/"
        },
        "id": "bVlTpU4clYgT",
        "outputId": "43e3fcd1-ef3a-4b56-8692-b59330bf344a"
      },
      "execution_count": 17,
      "outputs": [
        {
          "output_type": "stream",
          "name": "stdout",
          "text": [
            "export_path = model/1\n",
            "\n"
          ]
        }
      ]
    },
    {
      "cell_type": "code",
      "source": [
        "if os.path.isdir(export_path):\n",
        "  !rm -r {export_path}"
      ],
      "metadata": {
        "id": "XXPeRDLVljpK"
      },
      "execution_count": 18,
      "outputs": []
    },
    {
      "cell_type": "markdown",
      "metadata": {
        "id": "0RA2HuIUDrDQ"
      },
      "source": [
        "### Salvando o modelo para o TensorFlow Serving"
      ]
    },
    {
      "cell_type": "code",
      "source": [
        "tf.saved_model.simple_save(tf.keras.backend.get_session(),\n",
        "                           export_dir = export_path,\n",
        "                           inputs = {'input_image': model.input},\n",
        "                           outputs = {t.name: t for t in model.outputs})"
      ],
      "metadata": {
        "colab": {
          "base_uri": "https://localhost:8080/"
        },
        "id": "rzYspdcvlsqA",
        "outputId": "1c1a5cd5-ae47-4d09-ff20-dd09f583ecfd"
      },
      "execution_count": 19,
      "outputs": [
        {
          "output_type": "stream",
          "name": "stderr",
          "text": [
            "WARNING:tensorflow:From <ipython-input-19-c74d10ebdcc6>:1: simple_save (from tensorflow.python.saved_model.simple_save) is deprecated and will be removed in a future version.\n",
            "Instructions for updating:\n",
            "This API was designed for TensorFlow v1. See https://www.tensorflow.org/guide/migrate for instructions on how to migrate your code to TensorFlow v2.\n",
            "WARNING:tensorflow:From /usr/local/lib/python3.10/dist-packages/tensorflow/python/saved_model/signature_def_utils_impl.py:225: build_tensor_info (from tensorflow.python.saved_model.utils_impl) is deprecated and will be removed in a future version.\n",
            "Instructions for updating:\n",
            "This API was designed for TensorFlow v1. See https://www.tensorflow.org/guide/migrate for instructions on how to migrate your code to TensorFlow v2.\n"
          ]
        }
      ]
    },
    {
      "cell_type": "markdown",
      "metadata": {
        "id": "1o8BlXcBFvIm"
      },
      "source": [
        "## Etapa 6: Configuração do ambiente de produção"
      ]
    },
    {
      "cell_type": "markdown",
      "metadata": {
        "id": "rSFWzxOrF0ft"
      },
      "source": [
        "### Exportando o MODEL_DIR para as variáveis de ambiente"
      ]
    },
    {
      "cell_type": "code",
      "source": [
        "os.environ['MODEL_DIR'] = os.path.abspath(model_dir)"
      ],
      "metadata": {
        "id": "UTds0dfunJOp"
      },
      "execution_count": 46,
      "outputs": []
    },
    {
      "cell_type": "markdown",
      "metadata": {
        "id": "8TXejqj5F5oj"
      },
      "source": [
        "### Executando a API TensorFlow Serving REST"
      ]
    },
    {
      "cell_type": "code",
      "source": [
        "%%bash --bg\n",
        "nohup tensorflow_model_server --rest_api_port=8501 --model_name=cifar10 --model_base_path=\"${MODEL_DIR}\" >server.log 2>&1"
      ],
      "metadata": {
        "id": "KuNqsK0-neYF"
      },
      "execution_count": 47,
      "outputs": []
    },
    {
      "cell_type": "code",
      "source": [
        "!tail server.log"
      ],
      "metadata": {
        "colab": {
          "base_uri": "https://localhost:8080/"
        },
        "id": "wlvQlZb6oEOP",
        "outputId": "a1001a96-1ad1-4646-c256-a14d69ba6c97"
      },
      "execution_count": 48,
      "outputs": [
        {
          "output_type": "stream",
          "name": "stdout",
          "text": [
            "2024-07-16 17:48:59.968788: E external/org_tensorflow/tensorflow/core/framework/node_def_util.cc:630] NodeDef mentions attribute debug_name which is not in the op definition: Op<name=VarHandleOp; signature= -> resource:resource; attr=container:string,default=\"\"; attr=shared_name:string,default=\"\"; attr=dtype:type; attr=shape:shape; attr=allowed_devices:list(string),default=[]; is_stateful=true> This may be expected if your graph generating binary is newer  than this binary. Unknown attributes will be ignored. NodeDef: {{node dense/kernel}}\n",
            "[warn] getaddrinfo: address family for nodename not supported\n",
            "[evhttp_server.cc : 245] NET_LOG: Entering the event loop ...\n"
          ]
        }
      ]
    },
    {
      "cell_type": "markdown",
      "metadata": {
        "id": "ICEqKpKUOC2F"
      },
      "source": [
        "## Etapa 7: Criando a primeira requisição POST"
      ]
    },
    {
      "cell_type": "code",
      "source": [
        "random_image = np.random.randint(0, len(X_test))"
      ],
      "metadata": {
        "id": "77cuiUv1rD8X"
      },
      "execution_count": 119,
      "outputs": []
    },
    {
      "cell_type": "code",
      "source": [
        "random_image"
      ],
      "metadata": {
        "colab": {
          "base_uri": "https://localhost:8080/"
        },
        "id": "fL3UX0-nrOm6",
        "outputId": "e5a2dc42-c4a2-40a3-d763-e1433a8cde67"
      },
      "execution_count": 120,
      "outputs": [
        {
          "output_type": "execute_result",
          "data": {
            "text/plain": [
              "1000"
            ]
          },
          "metadata": {},
          "execution_count": 120
        }
      ]
    },
    {
      "cell_type": "markdown",
      "metadata": {
        "id": "tqOfIBMNOK8p"
      },
      "source": [
        "### Criando o objeto JSON"
      ]
    },
    {
      "cell_type": "code",
      "source": [
        "data = json.dumps({\"signature_name\": \"serving_default\", \"instances\": X_test[random_image:random_image+1].tolist()})"
      ],
      "metadata": {
        "id": "v_bhFwBDrRy5"
      },
      "execution_count": 121,
      "outputs": []
    },
    {
      "cell_type": "code",
      "source": [
        "data"
      ],
      "metadata": {
        "colab": {
          "base_uri": "https://localhost:8080/",
          "height": 105
        },
        "id": "uF66zBRxrjM3",
        "outputId": "9eb72a66-386c-41e7-ee44-55d7aca186c7"
      },
      "execution_count": 122,
      "outputs": [
        {
          "output_type": "execute_result",
          "data": {
            "text/plain": [
              "'{\"signature_name\": \"serving_default\", \"instances\": [[[[0.07058823529411765, 0.06666666666666667, 0.050980392156862744], [0.0784313725490196, 0.0784313725490196, 0.058823529411764705], [0.08235294117647059, 0.08627450980392157, 0.06666666666666667], [0.08235294117647059, 0.08627450980392157, 0.0784313725490196], [0.07450980392156863, 0.0784313725490196, 0.0784313725490196], [0.08627450980392157, 0.0784313725490196, 0.08235294117647059], [0.09411764705882353, 0.0784313725490196, 0.08235294117647059], [0.08235294117647059, 0.07058823529411765, 0.07450980392156863], [0.058823529411764705, 0.058823529411764705, 0.058823529411764705], [0.0784313725490196, 0.0784313725490196, 0.0784313725490196], [0.10588235294117647, 0.09019607843137255, 0.09411764705882353], [0.09411764705882353, 0.08627450980392157, 0.09411764705882353], [0.07058823529411765, 0.06274509803921569, 0.07450980392156863], [0.17254901960784313, 0.12156862745098039, 0.10196078431372549], [0.3215686274509804, 0.23529411764705882, 0.1843137254901961], [0.3764705882352941, 0.28627450980392155, 0.23137254901960785], [0.3137254901960784, 0.2235294117647059, 0.16862745098039217], [0.15294117647058825, 0.10196078431372549, 0.06666666666666667], [0.10196078431372549, 0.06666666666666667, 0.06666666666666667], [0.1607843137254902, 0.12549019607843137, 0.12549019607843137], [0.1843137254901961, 0.1450980392156863, 0.13725490196078433], [0.1411764705882353, 0.09803921568627451, 0.09019607843137255], [0.17647058823529413, 0.13725490196078433, 0.12941176470588237], [0.2, 0.1607843137254902, 0.15294117647058825], [0.2, 0.1607843137254902, 0.15294117647058825], [0.19215686274509805, 0.14901960784313725, 0.1411764705882353], [0.18823529411764706, 0.15294117647058825, 0.1411764705882353], [0.19607843137254902, 0.1607843137254902, 0.14901960784313725], [0.1803921568627451, 0.14901960784313725, 0.1411764705882353], [0.16862745098039217, 0.1411764705882353, 0.12156862745098039], [0.29411764705882354, 0.21568627450980393, 0.1607843137254902], [0.403921568627451, 0.28627450980392155, 0.20784313725490197]], [[0.30196078431372547, 0.2823529411764706, 0.25098039215686274], [0.1843137254901961, 0.18823529411764706, 0.17254901960784313], [0.07058823529411765, 0.07450980392156863, 0.054901960784313725], [0.09019607843137255, 0.09019607843137255, 0.08627450980392157], [0.08235294117647059, 0.0784313725490196, 0.08235294117647059], [0.08627450980392157, 0.0784313725490196, 0.0784313725490196], [0.09803921568627451, 0.0784313725490196, 0.08627450980392157], [0.09019607843137255, 0.0784313725490196, 0.0784313725490196], [0.08627450980392157, 0.0784313725490196, 0.07450980392156863], [0.09803921568627451, 0.08235294117647059, 0.08235294117647059], [0.11372549019607843, 0.08627450980392157, 0.09019607843137255], [0.09803921568627451, 0.07450980392156863, 0.0784313725490196], [0.08235294117647059, 0.07058823529411765, 0.09411764705882353], [0.17647058823529413, 0.1411764705882353, 0.1607843137254902], [0.3764705882352941, 0.33725490196078434, 0.32941176470588235], [0.5215686274509804, 0.4980392156862745, 0.49411764705882355], [0.4666666666666667, 0.42745098039215684, 0.41568627450980394], [0.3568627450980392, 0.30980392156862746, 0.29411764705882354], [0.3411764705882353, 0.3176470588235294, 0.33725490196078434], [0.3843137254901961, 0.3568627450980392, 0.3764705882352941], [0.43137254901960786, 0.403921568627451, 0.40784313725490196], [0.2235294117647059, 0.19215686274509805, 0.1843137254901961], [0.19215686274509805, 0.1607843137254902, 0.14901960784313725], [0.16862745098039217, 0.12941176470588237, 0.12156862745098039], [0.18823529411764706, 0.1450980392156863, 0.1411764705882353], [0.1843137254901961, 0.14901960784313725, 0.13725490196078433], [0.1843137254901961, 0.14901960784313725, 0.1411764705882353], [0.1843137254901961, 0.1568627450980392, 0.1411764705882353], [0.1607843137254902, 0.13725490196078433, 0.12549019607843137], [0.24705882352941178, 0.18823529411764706, 0.1568627450980392], [0.3843137254901961, 0.27058823529411763, 0.20392156862745098], [0.3568627450980392, 0.24705882352941178, 0.1843137254901961]], [[0.3686274509803922, 0.3411764705882353, 0.3137254901960784], [0.403921568627451, 0.3764705882352941, 0.3568627450980392], [0.12156862745098039, 0.11372549019607843, 0.10196078431372549], [0.07450980392156863, 0.06666666666666667, 0.07058823529411765], [0.08627450980392157, 0.07058823529411765, 0.07450980392156863], [0.0784313725490196, 0.06666666666666667, 0.07058823529411765], [0.10588235294117647, 0.08235294117647059, 0.09019607843137255], [0.10588235294117647, 0.08627450980392157, 0.08627450980392157], [0.11372549019607843, 0.08235294117647059, 0.0784313725490196], [0.19607843137254902, 0.17254901960784313, 0.16470588235294117], [0.19215686274509805, 0.17647058823529413, 0.16470588235294117], [0.1803921568627451, 0.16470588235294117, 0.1568627450980392], [0.30980392156862746, 0.2901960784313726, 0.2980392156862745], [0.48627450980392156, 0.47843137254901963, 0.47843137254901963], [0.6039215686274509, 0.615686274509804, 0.611764705882353], [0.6470588235294118, 0.6588235294117647, 0.6784313725490196], [0.6627450980392157, 0.6745098039215687, 0.6980392156862745], [0.6627450980392157, 0.6745098039215687, 0.6941176470588235], [0.6705882352941176, 0.6784313725490196, 0.7058823529411765], [0.6431372549019608, 0.6509803921568628, 0.6784313725490196], [0.6901960784313725, 0.6901960784313725, 0.7176470588235294], [0.596078431372549, 0.592156862745098, 0.6078431372549019], [0.4980392156862745, 0.49019607843137253, 0.48627450980392156], [0.24313725490196078, 0.21568627450980393, 0.21568627450980393], [0.14901960784313725, 0.10980392156862745, 0.10980392156862745], [0.15294117647058825, 0.11764705882352941, 0.10980392156862745], [0.1568627450980392, 0.12549019607843137, 0.10980392156862745], [0.1607843137254902, 0.13725490196078433, 0.11764705882352941], [0.1803921568627451, 0.15294117647058825, 0.12156862745098039], [0.3568627450980392, 0.27058823529411763, 0.19607843137254902], [0.3803921568627451, 0.26666666666666666, 0.19215686274509805], [0.35294117647058826, 0.25882352941176473, 0.1803921568627451]], [[0.1568627450980392, 0.12549019607843137, 0.10980392156862745], [0.4549019607843137, 0.41568627450980394, 0.3803921568627451], [0.40784313725490196, 0.3803921568627451, 0.3607843137254902], [0.1843137254901961, 0.16862745098039217, 0.16862745098039217], [0.10196078431372549, 0.08627450980392157, 0.09019607843137255], [0.10588235294117647, 0.08627450980392157, 0.09019607843137255], [0.11372549019607843, 0.10588235294117647, 0.10980392156862745], [0.16862745098039217, 0.1450980392156863, 0.1450980392156863], [0.2901960784313726, 0.25882352941176473, 0.25098039215686274], [0.5254901960784314, 0.5019607843137255, 0.49019607843137253], [0.5176470588235295, 0.5019607843137255, 0.49019607843137253], [0.5098039215686274, 0.49411764705882355, 0.48627450980392156], [0.6039215686274509, 0.6, 0.6039215686274509], [0.6862745098039216, 0.7058823529411765, 0.6980392156862745], [0.7450980392156863, 0.7607843137254902, 0.7568627450980392], [0.7803921568627451, 0.792156862745098, 0.8117647058823529], [0.7647058823529411, 0.7843137254901961, 0.807843137254902], [0.7490196078431373, 0.7686274509803922, 0.792156862745098], [0.7529411764705882, 0.7686274509803922, 0.796078431372549], [0.7686274509803922, 0.7803921568627451, 0.807843137254902], [0.7490196078431373, 0.7607843137254902, 0.796078431372549], [0.7843137254901961, 0.803921568627451, 0.8196078431372549], [0.7215686274509804, 0.7372549019607844, 0.7411764705882353], [0.5568627450980392, 0.5529411764705883, 0.5607843137254902], [0.27450980392156865, 0.24705882352941178, 0.25098039215686274], [0.17254901960784313, 0.1411764705882353, 0.12941176470588237], [0.14901960784313725, 0.12156862745098039, 0.10980392156862745], [0.15294117647058825, 0.12156862745098039, 0.09803921568627451], [0.28627450980392155, 0.2235294117647059, 0.1607843137254902], [0.38823529411764707, 0.2823529411764706, 0.19215686274509805], [0.3411764705882353, 0.24313725490196078, 0.1803921568627451], [0.35294117647058826, 0.25882352941176473, 0.1843137254901961]], [[0.2196078431372549, 0.16862745098039217, 0.10980392156862745], [0.2627450980392157, 0.23529411764705882, 0.21176470588235294], [0.5176470588235295, 0.49019607843137253, 0.4666666666666667], [0.5215686274509804, 0.47843137254901963, 0.4745098039215686], [0.25882352941176473, 0.23529411764705882, 0.24313725490196078], [0.19607843137254902, 0.1803921568627451, 0.1803921568627451], [0.25098039215686274, 0.25098039215686274, 0.24705882352941178], [0.3607843137254902, 0.3411764705882353, 0.34509803921568627], [0.5294117647058824, 0.5058823529411764, 0.5058823529411764], [0.6352941176470588, 0.615686274509804, 0.6078431372549019], [0.6705882352941176, 0.6627450980392157, 0.6549019607843137], [0.6862745098039216, 0.6784313725490196, 0.6745098039215687], [0.7019607843137254, 0.7019607843137254, 0.6941176470588235], [0.8235294117647058, 0.8274509803921568, 0.8156862745098039], [0.8, 0.8235294117647058, 0.8156862745098039], [0.7764705882352941, 0.8, 0.803921568627451], [0.7803921568627451, 0.803921568627451, 0.8196078431372549], [0.7686274509803922, 0.796078431372549, 0.807843137254902], [0.796078431372549, 0.803921568627451, 0.8196078431372549], [0.8, 0.803921568627451, 0.8156862745098039], [0.8, 0.8117647058823529, 0.8196078431372549], [0.8470588235294118, 0.8666666666666667, 0.8549019607843137], [0.788235294117647, 0.807843137254902, 0.803921568627451], [0.7098039215686275, 0.7176470588235294, 0.7333333333333333], [0.5882352941176471, 0.5843137254901961, 0.592156862745098], [0.4117647058823529, 0.4, 0.39215686274509803], [0.1450980392156863, 0.12941176470588237, 0.12549019607843137], [0.13333333333333333, 0.10196078431372549, 0.07058823529411765], [0.2980392156862745, 0.2196078431372549, 0.15294117647058825], [0.3568627450980392, 0.2627450980392157, 0.16862745098039217], [0.3215686274509804, 0.23529411764705882, 0.17254901960784313], [0.3333333333333333, 0.23921568627450981, 0.16470588235294117]], [[0.4, 0.30196078431372547, 0.19215686274509805], [0.28627450980392155, 0.20784313725490197, 0.1411764705882353], [0.26666666666666666, 0.2235294117647059, 0.18823529411764706], [0.48627450980392156, 0.44313725490196076, 0.43529411764705883], [0.4392156862745098, 0.4196078431372549, 0.42745098039215684], [0.3843137254901961, 0.38823529411764707, 0.39215686274509803], [0.4470588235294118, 0.45098039215686275, 0.4549019607843137], [0.4980392156862745, 0.4980392156862745, 0.5058823529411764], [0.6, 0.596078431372549, 0.6], [0.6588235294117647, 0.6549019607843137, 0.6470588235294118], [0.6666666666666666, 0.6666666666666666, 0.6666666666666666], [0.7490196078431373, 0.7411764705882353, 0.7411764705882353], [0.796078431372549, 0.7764705882352941, 0.7647058823529411], [0.8470588235294118, 0.8509803921568627, 0.8352941176470589], [0.7843137254901961, 0.803921568627451, 0.796078431372549], [0.7764705882352941, 0.796078431372549, 0.792156862745098], [0.8117647058823529, 0.8313725490196079, 0.8274509803921568], [0.8117647058823529, 0.8313725490196079, 0.8313725490196079], [0.8392156862745098, 0.8431372549019608, 0.8431372549019608], [0.8274509803921568, 0.8274509803921568, 0.8274509803921568], [0.8745098039215686, 0.8745098039215686, 0.8745098039215686], [0.8862745098039215, 0.8862745098039215, 0.8823529411764706], [0.8392156862745098, 0.8470588235294118, 0.8509803921568627], [0.7647058823529411, 0.7803921568627451, 0.792156862745098], [0.7215686274509804, 0.7372549019607844, 0.7411764705882353], [0.5098039215686274, 0.5137254901960784, 0.5137254901960784], [0.2196078431372549, 0.2, 0.2], [0.20392156862745098, 0.14901960784313725, 0.09803921568627451], [0.32941176470588235, 0.23529411764705882, 0.1568627450980392], [0.3137254901960784, 0.2235294117647059, 0.12549019607843137], [0.3137254901960784, 0.2196078431372549, 0.1450980392156863], [0.34901960784313724, 0.25098039215686274, 0.1803921568627451]], [[0.36470588235294116, 0.2627450980392157, 0.17254901960784313], [0.403921568627451, 0.2784313725490196, 0.1843137254901961], [0.3568627450980392, 0.25098039215686274, 0.16470588235294117], [0.34901960784313724, 0.3215686274509804, 0.28627450980392155], [0.45098039215686275, 0.45098039215686275, 0.4549019607843137], [0.4980392156862745, 0.5137254901960784, 0.5372549019607843], [0.5254901960784314, 0.5490196078431373, 0.5686274509803921], [0.5686274509803921, 0.5843137254901961, 0.6039215686274509], [0.6627450980392157, 0.6745098039215687, 0.6745098039215687], [0.7294117647058823, 0.7372549019607844, 0.7254901960784313], [0.7176470588235294, 0.7176470588235294, 0.7176470588235294], [0.803921568627451, 0.796078431372549, 0.792156862745098], [0.8745098039215686, 0.8549019607843137, 0.8431372549019608], [0.8627450980392157, 0.8666666666666667, 0.8509803921568627], [0.8117647058823529, 0.8117647058823529, 0.8117647058823529], [0.8117647058823529, 0.8156862745098039, 0.8156862745098039], [0.8352941176470589, 0.8392156862745098, 0.8313725490196079], [0.8549019607843137, 0.8588235294117647, 0.8470588235294118], [0.8509803921568627, 0.8509803921568627, 0.8470588235294118], [0.8392156862745098, 0.8392156862745098, 0.8392156862745098], [0.8666666666666667, 0.8666666666666667, 0.8666666666666667], [0.9137254901960784, 0.9137254901960784, 0.9137254901960784], [0.8509803921568627, 0.8588235294117647, 0.8666666666666667], [0.7686274509803922, 0.7843137254901961, 0.796078431372549], [0.7137254901960784, 0.7254901960784313, 0.7333333333333333], [0.5529411764705883, 0.5568627450980392, 0.5568627450980392], [0.40784313725490196, 0.39215686274509803, 0.39215686274509803], [0.37254901960784315, 0.3254901960784314, 0.2823529411764706], [0.33725490196078434, 0.25098039215686274, 0.1843137254901961], [0.3803921568627451, 0.28627450980392155, 0.17647058823529413], [0.3215686274509804, 0.2196078431372549, 0.12549019607843137], [0.3254901960784314, 0.22745098039215686, 0.14901960784313725]], [[0.3176470588235294, 0.23921568627450981, 0.17647058823529413], [0.3333333333333333, 0.25098039215686274, 0.17254901960784313], [0.40784313725490196, 0.3215686274509804, 0.23921568627450981], [0.43137254901960786, 0.4235294117647059, 0.396078431372549], [0.4980392156862745, 0.5176470588235295, 0.5098039215686274], [0.5686274509803921, 0.5843137254901961, 0.6039215686274509], [0.5647058823529412, 0.5803921568627451, 0.6078431372549019], [0.6235294117647059, 0.6352941176470588, 0.6431372549019608], [0.6862745098039216, 0.6941176470588235, 0.6901960784313725], [0.7098039215686275, 0.7137254901960784, 0.7058823529411765], [0.7568627450980392, 0.7529411764705882, 0.7411764705882353], [0.8470588235294118, 0.8313725490196079, 0.8235294117647058], [0.8784313725490196, 0.8745098039215686, 0.8549019607843137], [0.8156862745098039, 0.8156862745098039, 0.8], [0.7803921568627451, 0.7764705882352941, 0.7764705882352941], [0.8196078431372549, 0.8156862745098039, 0.8196078431372549], [0.8196078431372549, 0.8274509803921568, 0.8313725490196079], [0.8431372549019608, 0.8392156862745098, 0.8313725490196079], [0.8588235294117647, 0.8509803921568627, 0.8392156862745098], [0.8509803921568627, 0.8431372549019608, 0.8392156862745098], [0.8156862745098039, 0.8156862745098039, 0.8117647058823529], [0.8862745098039215, 0.8862745098039215, 0.8862745098039215], [0.8666666666666667, 0.8666666666666667, 0.8705882352941177], [0.8, 0.8, 0.803921568627451], [0.807843137254902, 0.8196078431372549, 0.8196078431372549], [0.7411764705882353, 0.7529411764705882, 0.7490196078431373], [0.6274509803921569, 0.6313725490196078, 0.6313725490196078], [0.4745098039215686, 0.45098039215686275, 0.45098039215686275], [0.1803921568627451, 0.13333333333333333, 0.12549019607843137], [0.13725490196078433, 0.10980392156862745, 0.07058823529411765], [0.27058823529411763, 0.21176470588235294, 0.13333333333333333], [0.3764705882352941, 0.27058823529411763, 0.16862745098039217]], [[0.2980392156862745, 0.23921568627450981, 0.1803921568627451], [0.3215686274509804, 0.25098039215686274, 0.19607843137254902], [0.40784313725490196, 0.3843137254901961, 0.3686274509803922], [0.5215686274509804, 0.5372549019607843, 0.5490196078431373], [0.5647058823529412, 0.5803921568627451, 0.5882352941176471], [0.6078431372549019, 0.6196078431372549, 0.6392156862745098], [0.596078431372549, 0.611764705882353, 0.6235294117647059], [0.6705882352941176, 0.6784313725490196, 0.6745098039215687], [0.6901960784313725, 0.6862745098039216, 0.6862745098039216], [0.7058823529411765, 0.7058823529411765, 0.7019607843137254], [0.8235294117647058, 0.8196078431372549, 0.803921568627451], [0.8901960784313725, 0.8705882352941177, 0.8588235294117647], [0.8352941176470589, 0.8392156862745098, 0.8196078431372549], [0.7529411764705882, 0.7568627450980392, 0.7411764705882353], [0.796078431372549, 0.796078431372549, 0.796078431372549], [0.8784313725490196, 0.8823529411764706, 0.8823529411764706], [0.8117647058823529, 0.8117647058823529, 0.8117647058823529], [0.8117647058823529, 0.792156862745098, 0.7764705882352941], [0.8941176470588236, 0.8705882352941177, 0.8470588235294118], [0.9019607843137255, 0.8745098039215686, 0.8549019607843137], [0.8509803921568627, 0.8431372549019608, 0.8352941176470589], [0.8, 0.803921568627451, 0.803921568627451], [0.8352941176470589, 0.8352941176470589, 0.8352941176470589], [0.8235294117647058, 0.8235294117647058, 0.8235294117647058], [0.8392156862745098, 0.8431372549019608, 0.8431372549019608], [0.8235294117647058, 0.8392156862745098, 0.8352941176470589], [0.7607843137254902, 0.7764705882352941, 0.7725490196078432], [0.6274509803921569, 0.6196078431372549, 0.6235294117647059], [0.47843137254901963, 0.4470588235294118, 0.4588235294117647], [0.1568627450980392, 0.12941176470588237, 0.1411764705882353], [0.06666666666666667, 0.06274509803921569, 0.06274509803921569], [0.26666666666666666, 0.20392156862745098, 0.1607843137254902]], [[0.2823529411764706, 0.23529411764705882, 0.1843137254901961], [0.3568627450980392, 0.3254901960784314, 0.3137254901960784], [0.49411764705882355, 0.5019607843137255, 0.5254901960784314], [0.5529411764705883, 0.5647058823529412, 0.5843137254901961], [0.5882352941176471, 0.6, 0.6274509803921569], [0.6196078431372549, 0.6352941176470588, 0.6549019607843137], [0.6313725490196078, 0.6509803921568628, 0.6431372549019608], [0.6666666666666666, 0.6784313725490196, 0.6627450980392157], [0.7254901960784313, 0.7254901960784313, 0.7254901960784313], [0.8, 0.8, 0.796078431372549], [0.8392156862745098, 0.8313725490196079, 0.8156862745098039], [0.8470588235294118, 0.8313725490196079, 0.8156862745098039], [0.807843137254902, 0.8117647058823529, 0.792156862745098], [0.8392156862745098, 0.8431372549019608, 0.8235294117647058], [0.7764705882352941, 0.7725490196078432, 0.7607843137254902], [0.7490196078431373, 0.7294117647058823, 0.7294117647058823], [0.7803921568627451, 0.7568627450980392, 0.7490196078431373], [0.8, 0.7647058823529411, 0.7372549019607844], [0.8980392156862745, 0.8549019607843137, 0.8196078431372549], [0.9098039215686274, 0.8705882352941177, 0.8352941176470589], [0.8509803921568627, 0.8352941176470589, 0.8196078431372549], [0.792156862745098, 0.792156862745098, 0.792156862745098], [0.7686274509803922, 0.7647058823529411, 0.7686274509803922], [0.7803921568627451, 0.7764705882352941, 0.7803921568627451], [0.8352941176470589, 0.8392156862745098, 0.8392156862745098], [0.8117647058823529, 0.8235294117647058, 0.8196078431372549], [0.8431372549019608, 0.8588235294117647, 0.8549019607843137], [0.7215686274509804, 0.7294117647058823, 0.7254901960784313], [0.6588235294117647, 0.6549019607843137, 0.6627450980392157], [0.4980392156862745, 0.48627450980392156, 0.4980392156862745], [0.20392156862745098, 0.20784313725490197, 0.2196078431372549], [0.058823529411764705, 0.054901960784313725, 0.06274509803921569]], [[0.3215686274509804, 0.2784313725490196, 0.24313725490196078], [0.4745098039215686, 0.4745098039215686, 0.47058823529411764], [0.5607843137254902, 0.5764705882352941, 0.5882352941176471], [0.5529411764705883, 0.5686274509803921, 0.592156862745098], [0.611764705882353, 0.6313725490196078, 0.6549019607843137], [0.6196078431372549, 0.6431372549019608, 0.6588235294117647], [0.6235294117647059, 0.6392156862745098, 0.6352941176470588], [0.6470588235294118, 0.6470588235294118, 0.6392156862745098], [0.7450980392156863, 0.7490196078431373, 0.7490196078431373], [0.8274509803921568, 0.8235294117647058, 0.8196078431372549], [0.8156862745098039, 0.8, 0.788235294117647], [0.807843137254902, 0.8, 0.7843137254901961], [0.8470588235294118, 0.8549019607843137, 0.8352941176470589], [0.8823529411764706, 0.8705882352941177, 0.8627450980392157], [0.6078431372549019, 0.5529411764705883, 0.5176470588235295], [0.5019607843137255, 0.4196078431372549, 0.3411764705882353], [0.6274509803921569, 0.5450980392156862, 0.5058823529411764], [0.7647058823529411, 0.6823529411764706, 0.6549019607843137], [0.8509803921568627, 0.788235294117647, 0.7333333333333333], [0.8784313725490196, 0.8352941176470589, 0.7843137254901961], [0.792156862745098, 0.7725490196078432, 0.7450980392156863], [0.792156862745098, 0.7803921568627451, 0.7725490196078432], [0.7607843137254902, 0.7450980392156863, 0.7490196078431373], [0.7686274509803922, 0.7529411764705882, 0.7568627450980392], [0.8392156862745098, 0.8313725490196079, 0.8313725490196079], [0.8470588235294118, 0.8470588235294118, 0.8470588235294118], [0.8588235294117647, 0.8627450980392157, 0.8627450980392157], [0.788235294117647, 0.803921568627451, 0.8], [0.6039215686274509, 0.6196078431372549, 0.6196078431372549], [0.6235294117647059, 0.6313725490196078, 0.6470588235294118], [0.5137254901960784, 0.5019607843137255, 0.5176470588235295], [0.18823529411764706, 0.17647058823529413, 0.1803921568627451]], [[0.41568627450980394, 0.403921568627451, 0.3803921568627451], [0.5333333333333333, 0.5490196078431373, 0.5490196078431373], [0.5450980392156862, 0.5568627450980392, 0.5686274509803921], [0.5725490196078431, 0.5882352941176471, 0.615686274509804], [0.6078431372549019, 0.6274509803921569, 0.6549019607843137], [0.6235294117647059, 0.6470588235294118, 0.6627450980392157], [0.5568627450980392, 0.5725490196078431, 0.5686274509803921], [0.6, 0.6, 0.592156862745098], [0.7568627450980392, 0.7568627450980392, 0.7568627450980392], [0.792156862745098, 0.7843137254901961, 0.7843137254901961], [0.788235294117647, 0.7725490196078432, 0.7607843137254902], [0.7843137254901961, 0.7725490196078432, 0.7568627450980392], [0.8392156862745098, 0.8274509803921568, 0.8156862745098039], [0.8313725490196079, 0.8, 0.8], [0.5333333333333333, 0.4666666666666667, 0.42745098039215684], [0.6352941176470588, 0.5450980392156862, 0.43529411764705883], [0.6549019607843137, 0.5647058823529412, 0.5098039215686274], [0.7372549019607844, 0.6431372549019608, 0.6078431372549019], [0.8509803921568627, 0.7803921568627451, 0.7333333333333333], [0.9019607843137255, 0.8588235294117647, 0.8156862745098039], [0.796078431372549, 0.7647058823529411, 0.7411764705882353], [0.7333333333333333, 0.6980392156862745, 0.7019607843137254], [0.7333333333333333, 0.7098039215686275, 0.7137254901960784], [0.7490196078431373, 0.7372549019607844, 0.7215686274509804], [0.8196078431372549, 0.8117647058823529, 0.803921568627451], [0.8823529411764706, 0.8823529411764706, 0.8823529411764706], [0.8588235294117647, 0.8627450980392157, 0.8588235294117647], [0.8274509803921568, 0.8431372549019608, 0.8352941176470589], [0.6784313725490196, 0.6941176470588235, 0.6901960784313725], [0.6901960784313725, 0.6980392156862745, 0.7137254901960784], [0.6823529411764706, 0.6705882352941176, 0.6901960784313725], [0.403921568627451, 0.3843137254901961, 0.39215686274509803]], [[0.47843137254901963, 0.48627450980392156, 0.4666666666666667], [0.5490196078431373, 0.5647058823529412, 0.5686274509803921], [0.5568627450980392, 0.5725490196078431, 0.5843137254901961], [0.6, 0.615686274509804, 0.6392156862745098], [0.5686274509803921, 0.5882352941176471, 0.611764705882353], [0.5725490196078431, 0.592156862745098, 0.615686274509804], [0.5254901960784314, 0.5372549019607843, 0.5490196078431373], [0.5882352941176471, 0.596078431372549, 0.592156862745098], [0.7686274509803922, 0.7764705882352941, 0.7764705882352941], [0.7450980392156863, 0.7490196078431373, 0.7450980392156863], [0.792156862745098, 0.7843137254901961, 0.7803921568627451], [0.7529411764705882, 0.7450980392156863, 0.7372549019607844], [0.796078431372549, 0.7843137254901961, 0.7686274509803922], [0.796078431372549, 0.7764705882352941, 0.7607843137254902], [0.6352941176470588, 0.6078431372549019, 0.5843137254901961], [0.6823529411764706, 0.6313725490196078, 0.615686274509804], [0.6705882352941176, 0.6196078431372549, 0.6078431372549019], [0.7294117647058823, 0.6901960784313725, 0.6745098039215687], [0.8313725490196079, 0.8, 0.7843137254901961], [0.8980392156862745, 0.8588235294117647, 0.8470588235294118], [0.8117647058823529, 0.7686274509803922, 0.7490196078431373], [0.592156862745098, 0.5411764705882353, 0.5294117647058824], [0.6, 0.5294117647058824, 0.4666666666666667], [0.6784313725490196, 0.6392156862745098, 0.6039215686274509], [0.8392156862745098, 0.8313725490196079, 0.8196078431372549], [0.8901960784313725, 0.8862745098039215, 0.8862745098039215], [0.8431372549019608, 0.8509803921568627, 0.8509803921568627], [0.807843137254902, 0.8156862745098039, 0.8117647058823529], [0.7333333333333333, 0.7411764705882353, 0.7411764705882353], [0.6392156862745098, 0.6392156862745098, 0.6470588235294118], [0.7647058823529411, 0.7607843137254902, 0.7725490196078432], [0.592156862745098, 0.5764705882352941, 0.5764705882352941]], [[0.4823529411764706, 0.49411764705882355, 0.47843137254901963], [0.5568627450980392, 0.5686274509803921, 0.5803921568627451], [0.5647058823529412, 0.5803921568627451, 0.592156862745098], [0.6039215686274509, 0.6196078431372549, 0.6392156862745098], [0.6, 0.6196078431372549, 0.6431372549019608], [0.596078431372549, 0.611764705882353, 0.6470588235294118], [0.5568627450980392, 0.5686274509803921, 0.596078431372549], [0.6, 0.611764705882353, 0.615686274509804], [0.7333333333333333, 0.7411764705882353, 0.7372549019607844], [0.7490196078431373, 0.7529411764705882, 0.7529411764705882], [0.8, 0.8, 0.803921568627451], [0.7019607843137254, 0.7019607843137254, 0.6980392156862745], [0.7647058823529411, 0.7490196078431373, 0.7333333333333333], [0.7647058823529411, 0.7490196078431373, 0.7333333333333333], [0.7450980392156863, 0.7333333333333333, 0.7215686274509804], [0.788235294117647, 0.7725490196078432, 0.7607843137254902], [0.8156862745098039, 0.788235294117647, 0.7803921568627451], [0.8196078431372549, 0.8, 0.788235294117647], [0.8117647058823529, 0.807843137254902, 0.796078431372549], [0.803921568627451, 0.7764705882352941, 0.7568627450980392], [0.7450980392156863, 0.6823529411764706, 0.6392156862745098], [0.611764705882353, 0.5411764705882353, 0.49411764705882355], [0.5372549019607843, 0.4196078431372549, 0.3215686274509804], [0.6078431372549019, 0.5254901960784314, 0.4980392156862745], [0.8352941176470589, 0.807843137254902, 0.807843137254902], [0.8627450980392157, 0.8588235294117647, 0.8588235294117647], [0.8509803921568627, 0.8588235294117647, 0.8549019607843137], [0.7725490196078432, 0.7764705882352941, 0.7725490196078432], [0.7058823529411765, 0.7058823529411765, 0.7058823529411765], [0.6196078431372549, 0.6196078431372549, 0.6196078431372549], [0.7019607843137254, 0.7019607843137254, 0.7058823529411765], [0.6901960784313725, 0.6784313725490196, 0.6666666666666666]], [[0.4980392156862745, 0.5058823529411764, 0.49019607843137253], [0.5568627450980392, 0.5725490196078431, 0.5803921568627451], [0.5372549019607843, 0.5529411764705883, 0.5647058823529412], [0.5725490196078431, 0.5882352941176471, 0.6078431372549019], [0.6078431372549019, 0.6274509803921569, 0.6470588235294118], [0.611764705882353, 0.6235294117647059, 0.6588235294117647], [0.596078431372549, 0.6078431372549019, 0.6313725490196078], [0.6039215686274509, 0.6078431372549019, 0.615686274509804], [0.6745098039215687, 0.6627450980392157, 0.6666666666666666], [0.7215686274509804, 0.7137254901960784, 0.7176470588235294], [0.7450980392156863, 0.7490196078431373, 0.7490196078431373], [0.6980392156862745, 0.6901960784313725, 0.6901960784313725], [0.7333333333333333, 0.6980392156862745, 0.6901960784313725], [0.6862745098039216, 0.6509803921568628, 0.6392156862745098], [0.7411764705882353, 0.7254901960784313, 0.7137254901960784], [0.803921568627451, 0.792156862745098, 0.7803921568627451], [0.8627450980392157, 0.8509803921568627, 0.8392156862745098], [0.7607843137254902, 0.7215686274509804, 0.7137254901960784], [0.7254901960784313, 0.7019607843137254, 0.6901960784313725], [0.8117647058823529, 0.788235294117647, 0.7647058823529411], [0.7450980392156863, 0.6901960784313725, 0.6549019607843137], [0.611764705882353, 0.5411764705882353, 0.5098039215686274], [0.41568627450980394, 0.3176470588235294, 0.28627450980392155], [0.6274509803921569, 0.5803921568627451, 0.5490196078431373], [0.8313725490196079, 0.803921568627451, 0.807843137254902], [0.8392156862745098, 0.8313725490196079, 0.8352941176470589], [0.807843137254902, 0.8156862745098039, 0.8156862745098039], [0.7568627450980392, 0.7568627450980392, 0.7568627450980392], [0.7058823529411765, 0.7058823529411765, 0.7058823529411765], [0.6941176470588235, 0.6941176470588235, 0.6941176470588235], [0.6274509803921569, 0.6274509803921569, 0.6313725490196078], [0.5882352941176471, 0.5725490196078431, 0.5647058823529412]], [[0.5019607843137255, 0.5058823529411764, 0.49019607843137253], [0.5411764705882353, 0.5607843137254902, 0.5529411764705883], [0.5490196078431373, 0.5647058823529412, 0.5647058823529412], [0.5529411764705883, 0.5686274509803921, 0.5843137254901961], [0.592156862745098, 0.6078431372549019, 0.6235294117647059], [0.6666666666666666, 0.6823529411764706, 0.6941176470588235], [0.7058823529411765, 0.7215686274509804, 0.7254901960784313], [0.6235294117647059, 0.6313725490196078, 0.6352941176470588], [0.5882352941176471, 0.5803921568627451, 0.596078431372549], [0.6549019607843137, 0.6509803921568628, 0.6627450980392157], [0.6313725490196078, 0.6313725490196078, 0.6313725490196078], [0.6509803921568628, 0.6470588235294118, 0.6509803921568628], [0.7019607843137254, 0.6862745098039216, 0.6901960784313725], [0.6666666666666666, 0.6431372549019608, 0.6196078431372549], [0.7333333333333333, 0.7294117647058823, 0.7137254901960784], [0.8235294117647058, 0.8196078431372549, 0.8235294117647058], [0.7137254901960784, 0.6823529411764706, 0.6705882352941176], [0.5725490196078431, 0.44313725490196076, 0.42745098039215684], [0.592156862745098, 0.4666666666666667, 0.43529411764705883], [0.7686274509803922, 0.7294117647058823, 0.7137254901960784], [0.807843137254902, 0.7686274509803922, 0.7686274509803922], [0.6588235294117647, 0.611764705882353, 0.6078431372549019], [0.6, 0.5215686274509804, 0.5098039215686274], [0.6862745098039216, 0.6392156862745098, 0.6078431372549019], [0.8313725490196079, 0.803921568627451, 0.8], [0.8588235294117647, 0.8549019607843137, 0.8588235294117647], [0.7803921568627451, 0.788235294117647, 0.7843137254901961], [0.7568627450980392, 0.7568627450980392, 0.7568627450980392], [0.7294117647058823, 0.7294117647058823, 0.7294117647058823], [0.6784313725490196, 0.6784313725490196, 0.6784313725490196], [0.5372549019607843, 0.5372549019607843, 0.5411764705882353], [0.4, 0.396078431372549, 0.39215686274509803]], [[0.5333333333333333, 0.5411764705882353, 0.5333333333333333], [0.5882352941176471, 0.6078431372549019, 0.6039215686274509], [0.5725490196078431, 0.5882352941176471, 0.6039215686274509], [0.5450980392156862, 0.5607843137254902, 0.5764705882352941], [0.5843137254901961, 0.6, 0.611764705882353], [0.6745098039215687, 0.6901960784313725, 0.6941176470588235], [0.6627450980392157, 0.6784313725490196, 0.6705882352941176], [0.5372549019607843, 0.5529411764705883, 0.5568627450980392], [0.5882352941176471, 0.6, 0.615686274509804], [0.6196078431372549, 0.6274509803921569, 0.6352941176470588], [0.5803921568627451, 0.5803921568627451, 0.5803921568627451], [0.6549019607843137, 0.6549019607843137, 0.6588235294117647], [0.7058823529411765, 0.7019607843137254, 0.7098039215686275], [0.6392156862745098, 0.6196078431372549, 0.5882352941176471], [0.6823529411764706, 0.6588235294117647, 0.6392156862745098], [0.796078431372549, 0.796078431372549, 0.792156862745098], [0.5490196078431373, 0.5058823529411764, 0.5098039215686274], [0.48627450980392156, 0.3411764705882353, 0.3333333333333333], [0.5333333333333333, 0.3686274509803922, 0.3568627450980392], [0.6470588235294118, 0.596078431372549, 0.596078431372549], [0.8196078431372549, 0.792156862745098, 0.792156862745098], [0.6980392156862745, 0.6705882352941176, 0.6588235294117647], [0.6470588235294118, 0.5647058823529412, 0.5372549019607843], [0.6549019607843137, 0.5764705882352941, 0.5294117647058824], [0.7647058823529411, 0.7215686274509804, 0.7019607843137254], [0.7843137254901961, 0.7843137254901961, 0.7843137254901961], [0.7411764705882353, 0.7490196078431373, 0.7490196078431373], [0.7411764705882353, 0.7411764705882353, 0.7411764705882353], [0.7098039215686275, 0.7098039215686275, 0.7098039215686275], [0.6431372549019608, 0.6431372549019608, 0.6431372549019608], [0.4392156862745098, 0.44313725490196076, 0.44313725490196076], [0.25882352941176473, 0.25882352941176473, 0.25882352941176473]], [[0.5647058823529412, 0.5764705882352941, 0.5725490196078431], [0.6431372549019608, 0.6549019607843137, 0.6588235294117647], [0.6039215686274509, 0.611764705882353, 0.6352941176470588], [0.5529411764705883, 0.5607843137254902, 0.5843137254901961], [0.5843137254901961, 0.596078431372549, 0.611764705882353], [0.5372549019607843, 0.5490196078431373, 0.5529411764705883], [0.5058823529411764, 0.5215686274509804, 0.5254901960784314], [0.5686274509803921, 0.5882352941176471, 0.5882352941176471], [0.6588235294117647, 0.6823529411764706, 0.6941176470588235], [0.6235294117647059, 0.6431372549019608, 0.6588235294117647], [0.6392156862745098, 0.6431372549019608, 0.6509803921568628], [0.6313725490196078, 0.6352941176470588, 0.6431372549019608], [0.6352941176470588, 0.6313725490196078, 0.6313725490196078], [0.5490196078431373, 0.5176470588235295, 0.4823529411764706], [0.5686274509803921, 0.5098039215686274, 0.4745098039215686], [0.7019607843137254, 0.6823529411764706, 0.6588235294117647], [0.5058823529411764, 0.48627450980392156, 0.48627450980392156], [0.2901960784313726, 0.22745098039215686, 0.2196078431372549], [0.3764705882352941, 0.29411764705882354, 0.2980392156862745], [0.6862745098039216, 0.6705882352941176, 0.6705882352941176], [0.807843137254902, 0.803921568627451, 0.796078431372549], [0.7490196078431373, 0.7372549019607844, 0.7215686274509804], [0.6745098039215687, 0.615686274509804, 0.596078431372549], [0.611764705882353, 0.5529411764705883, 0.5215686274509804], [0.7254901960784313, 0.6901960784313725, 0.6784313725490196], [0.7254901960784313, 0.7137254901960784, 0.7176470588235294], [0.7254901960784313, 0.7333333333333333, 0.7294117647058823], [0.7137254901960784, 0.7137254901960784, 0.7137254901960784], [0.7019607843137254, 0.7019607843137254, 0.7019607843137254], [0.6549019607843137, 0.6509803921568628, 0.6549019607843137], [0.4196078431372549, 0.41568627450980394, 0.41568627450980394], [0.16470588235294117, 0.16470588235294117, 0.1607843137254902]], [[0.5607843137254902, 0.5647058823529412, 0.5607843137254902], [0.6352941176470588, 0.6313725490196078, 0.6352941176470588], [0.6431372549019608, 0.6431372549019608, 0.6470588235294118], [0.5607843137254902, 0.5607843137254902, 0.5725490196078431], [0.5725490196078431, 0.5686274509803921, 0.5882352941176471], [0.5254901960784314, 0.5333333333333333, 0.5411764705882353], [0.5686274509803921, 0.5843137254901961, 0.6], [0.6, 0.6196078431372549, 0.6196078431372549], [0.6666666666666666, 0.6862745098039216, 0.7019607843137254], [0.6862745098039216, 0.7058823529411765, 0.7372549019607844], [0.6784313725490196, 0.6941176470588235, 0.7176470588235294], [0.6352941176470588, 0.6509803921568628, 0.6666666666666666], [0.6235294117647059, 0.611764705882353, 0.6039215686274509], [0.5490196078431373, 0.5058823529411764, 0.47843137254901963], [0.4980392156862745, 0.4196078431372549, 0.38823529411764707], [0.5490196078431373, 0.48627450980392156, 0.47058823529411764], [0.4666666666666667, 0.44313725490196076, 0.4470588235294118], [0.3803921568627451, 0.3607843137254902, 0.3843137254901961], [0.5176470588235295, 0.5019607843137255, 0.5215686274509804], [0.796078431372549, 0.7764705882352941, 0.7764705882352941], [0.8, 0.7803921568627451, 0.7803921568627451], [0.7725490196078432, 0.7450980392156863, 0.7372549019607844], [0.7019607843137254, 0.6509803921568628, 0.6392156862745098], [0.6196078431372549, 0.5607843137254902, 0.5294117647058824], [0.6352941176470588, 0.6039215686274509, 0.592156862745098], [0.6705882352941176, 0.6588235294117647, 0.6627450980392157], [0.6980392156862745, 0.7019607843137254, 0.7019607843137254], [0.6862745098039216, 0.6862745098039216, 0.6862745098039216], [0.6509803921568628, 0.6509803921568628, 0.6549019607843137], [0.6235294117647059, 0.6196078431372549, 0.6274509803921569], [0.41568627450980394, 0.396078431372549, 0.39215686274509803], [0.09803921568627451, 0.09411764705882353, 0.09019607843137255]], [[0.5607843137254902, 0.5647058823529412, 0.5568627450980392], [0.6470588235294118, 0.6431372549019608, 0.6470588235294118], [0.6470588235294118, 0.6470588235294118, 0.6431372549019608], [0.5725490196078431, 0.5686274509803921, 0.5803921568627451], [0.5725490196078431, 0.5686274509803921, 0.5882352941176471], [0.5803921568627451, 0.5882352941176471, 0.596078431372549], [0.5803921568627451, 0.592156862745098, 0.611764705882353], [0.5882352941176471, 0.6078431372549019, 0.6078431372549019], [0.6862745098039216, 0.7058823529411765, 0.7215686274509804], [0.7372549019607844, 0.7568627450980392, 0.792156862745098], [0.6980392156862745, 0.7176470588235294, 0.7411764705882353], [0.6588235294117647, 0.6784313725490196, 0.6980392156862745], [0.611764705882353, 0.615686274509804, 0.615686274509804], [0.6274509803921569, 0.6039215686274509, 0.5882352941176471], [0.6509803921568628, 0.6039215686274509, 0.5843137254901961], [0.6235294117647059, 0.592156862745098, 0.5882352941176471], [0.5450980392156862, 0.5294117647058824, 0.5294117647058824], [0.5215686274509804, 0.5058823529411764, 0.5215686274509804], [0.5843137254901961, 0.5686274509803921, 0.5803921568627451], [0.6666666666666666, 0.6039215686274509, 0.5686274509803921], [0.6980392156862745, 0.6274509803921569, 0.5882352941176471], [0.6745098039215687, 0.6352941176470588, 0.6196078431372549], [0.6745098039215687, 0.6274509803921569, 0.6039215686274509], [0.5294117647058824, 0.4627450980392157, 0.43137254901960786], [0.49019607843137253, 0.47843137254901963, 0.4745098039215686], [0.6509803921568628, 0.6627450980392157, 0.6627450980392157], [0.6509803921568628, 0.6509803921568628, 0.6509803921568628], [0.6431372549019608, 0.6431372549019608, 0.6431372549019608], [0.5686274509803921, 0.5686274509803921, 0.5725490196078431], [0.5686274509803921, 0.5647058823529412, 0.5764705882352941], [0.3215686274509804, 0.2980392156862745, 0.2980392156862745], [0.03529411764705882, 0.03137254901960784, 0.03137254901960784]], [[0.5411764705882353, 0.5490196078431373, 0.5490196078431373], [0.6352941176470588, 0.6352941176470588, 0.6431372549019608], [0.6549019607843137, 0.6509803921568628, 0.6627450980392157], [0.6196078431372549, 0.6235294117647059, 0.6352941176470588], [0.5490196078431373, 0.5529411764705883, 0.5686274509803921], [0.5490196078431373, 0.5607843137254902, 0.5686274509803921], [0.5254901960784314, 0.5372549019607843, 0.5529411764705883], [0.5882352941176471, 0.6078431372549019, 0.615686274509804], [0.7176470588235294, 0.7333333333333333, 0.7490196078431373], [0.7647058823529411, 0.7803921568627451, 0.807843137254902], [0.7725490196078432, 0.796078431372549, 0.8196078431372549], [0.6901960784313725, 0.7137254901960784, 0.7333333333333333], [0.6313725490196078, 0.6470588235294118, 0.6666666666666666], [0.596078431372549, 0.596078431372549, 0.6], [0.6274509803921569, 0.6078431372549019, 0.5725490196078431], [0.6352941176470588, 0.615686274509804, 0.5803921568627451], [0.592156862745098, 0.5725490196078431, 0.5294117647058824], [0.6078431372549019, 0.5843137254901961, 0.5490196078431373], [0.6862745098039216, 0.6588235294117647, 0.6392156862745098], [0.5411764705882353, 0.4627450980392157, 0.40784313725490196], [0.49411764705882355, 0.403921568627451, 0.34509803921568627], [0.592156862745098, 0.5333333333333333, 0.5058823529411764], [0.615686274509804, 0.5529411764705883, 0.5098039215686274], [0.3333333333333333, 0.2784313725490196, 0.2549019607843137], [0.41568627450980394, 0.42745098039215684, 0.4392156862745098], [0.6509803921568628, 0.6745098039215687, 0.6784313725490196], [0.6392156862745098, 0.6392156862745098, 0.6352941176470588], [0.6784313725490196, 0.6862745098039216, 0.6705882352941176], [0.5803921568627451, 0.592156862745098, 0.5843137254901961], [0.5803921568627451, 0.5843137254901961, 0.5882352941176471], [0.32941176470588235, 0.30196078431372547, 0.2980392156862745], [0.050980392156862744, 0.050980392156862744, 0.043137254901960784]], [[0.5215686274509804, 0.5176470588235295, 0.5058823529411764], [0.6039215686274509, 0.6078431372549019, 0.6078431372549019], [0.6705882352941176, 0.6705882352941176, 0.6784313725490196], [0.6627450980392157, 0.6745098039215687, 0.6823529411764706], [0.5490196078431373, 0.5647058823529412, 0.5764705882352941], [0.48627450980392156, 0.5019607843137255, 0.5137254901960784], [0.5254901960784314, 0.5411764705882353, 0.5529411764705883], [0.6039215686274509, 0.6196078431372549, 0.6313725490196078], [0.7215686274509804, 0.7372549019607844, 0.7490196078431373], [0.803921568627451, 0.8196078431372549, 0.8313725490196079], [0.8431372549019608, 0.8588235294117647, 0.8745098039215686], [0.7607843137254902, 0.7764705882352941, 0.792156862745098], [0.6666666666666666, 0.6784313725490196, 0.7058823529411765], [0.5607843137254902, 0.5686274509803921, 0.592156862745098], [0.5450980392156862, 0.5333333333333333, 0.5176470588235295], [0.6078431372549019, 0.5882352941176471, 0.5647058823529412], [0.5803921568627451, 0.5372549019607843, 0.5058823529411764], [0.5843137254901961, 0.5294117647058824, 0.4980392156862745], [0.7215686274509804, 0.6823529411764706, 0.6509803921568628], [0.611764705882353, 0.5529411764705883, 0.5058823529411764], [0.4980392156862745, 0.4196078431372549, 0.3803921568627451], [0.5058823529411764, 0.43137254901960786, 0.40784313725490196], [0.4392156862745098, 0.3607843137254902, 0.32941176470588235], [0.1843137254901961, 0.1411764705882353, 0.12941176470588237], [0.403921568627451, 0.41568627450980394, 0.403921568627451], [0.5843137254901961, 0.592156862745098, 0.592156862745098], [0.592156862745098, 0.592156862745098, 0.5843137254901961], [0.6745098039215687, 0.6862745098039216, 0.6627450980392157], [0.5764705882352941, 0.5882352941176471, 0.5725490196078431], [0.5372549019607843, 0.5411764705882353, 0.5254901960784314], [0.3333333333333333, 0.29411764705882354, 0.2823529411764706], [0.09019607843137255, 0.058823529411764705, 0.047058823529411764]], [[0.44313725490196076, 0.4, 0.37254901960784315], [0.5215686274509804, 0.5137254901960784, 0.5058823529411764], [0.6078431372549019, 0.611764705882353, 0.596078431372549], [0.6392156862745098, 0.6470588235294118, 0.6509803921568628], [0.5529411764705883, 0.5686274509803921, 0.5803921568627451], [0.4588235294117647, 0.4745098039215686, 0.4823529411764706], [0.5019607843137255, 0.5176470588235295, 0.5254901960784314], [0.611764705882353, 0.6274509803921569, 0.6352941176470588], [0.7254901960784313, 0.7411764705882353, 0.7529411764705882], [0.7529411764705882, 0.7647058823529411, 0.7725490196078432], [0.7803921568627451, 0.7843137254901961, 0.7843137254901961], [0.788235294117647, 0.788235294117647, 0.796078431372549], [0.7058823529411765, 0.7176470588235294, 0.7450980392156863], [0.6313725490196078, 0.6431372549019608, 0.6666666666666666], [0.5803921568627451, 0.5803921568627451, 0.596078431372549], [0.5372549019607843, 0.5333333333333333, 0.5450980392156862], [0.5450980392156862, 0.5254901960784314, 0.5137254901960784], [0.5843137254901961, 0.5568627450980392, 0.5372549019607843], [0.6392156862745098, 0.6039215686274509, 0.5764705882352941], [0.5803921568627451, 0.5450980392156862, 0.5137254901960784], [0.5254901960784314, 0.49411764705882355, 0.4745098039215686], [0.4588235294117647, 0.43137254901960786, 0.4117647058823529], [0.32941176470588235, 0.28627450980392155, 0.2823529411764706], [0.15294117647058825, 0.11372549019607843, 0.10196078431372549], [0.3137254901960784, 0.2901960784313726, 0.23921568627450981], [0.49019607843137253, 0.47843137254901963, 0.4549019607843137], [0.6, 0.6, 0.596078431372549], [0.6196078431372549, 0.611764705882353, 0.596078431372549], [0.4392156862745098, 0.43529411764705883, 0.4196078431372549], [0.4196078431372549, 0.403921568627451, 0.3803921568627451], [0.2549019607843137, 0.19607843137254902, 0.16862745098039217], [0.26666666666666666, 0.1843137254901961, 0.12156862745098039]], [[0.38823529411764707, 0.32941176470588235, 0.2627450980392157], [0.43529411764705883, 0.403921568627451, 0.3686274509803922], [0.5372549019607843, 0.5294117647058824, 0.4980392156862745], [0.5843137254901961, 0.5843137254901961, 0.5764705882352941], [0.5137254901960784, 0.5215686274509804, 0.5254901960784314], [0.4627450980392157, 0.4549019607843137, 0.45098039215686275], [0.47058823529411764, 0.4627450980392157, 0.4588235294117647], [0.5803921568627451, 0.5882352941176471, 0.596078431372549], [0.6705882352941176, 0.6901960784313725, 0.7019607843137254], [0.6980392156862745, 0.7098039215686275, 0.7215686274509804], [0.7647058823529411, 0.7647058823529411, 0.7843137254901961], [0.7843137254901961, 0.8, 0.8156862745098039], [0.7450980392156863, 0.7607843137254902, 0.7764705882352941], [0.7058823529411765, 0.7215686274509804, 0.7372549019607844], [0.6980392156862745, 0.7176470588235294, 0.7372549019607844], [0.6392156862745098, 0.6588235294117647, 0.6823529411764706], [0.592156862745098, 0.596078431372549, 0.615686274509804], [0.5529411764705883, 0.5568627450980392, 0.5372549019607843], [0.5254901960784314, 0.5137254901960784, 0.49019607843137253], [0.5254901960784314, 0.5058823529411764, 0.49411764705882355], [0.5098039215686274, 0.5215686274509804, 0.5137254901960784], [0.4745098039215686, 0.49019607843137253, 0.47843137254901963], [0.3176470588235294, 0.3058823529411765, 0.2980392156862745], [0.2235294117647059, 0.16470588235294117, 0.12156862745098039], [0.30980392156862746, 0.24313725490196078, 0.1803921568627451], [0.41568627450980394, 0.3764705882352941, 0.35294117647058826], [0.5843137254901961, 0.5686274509803921, 0.5803921568627451], [0.5058823529411764, 0.47843137254901963, 0.4666666666666667], [0.23921568627450981, 0.21568627450980393, 0.20392156862745098], [0.39215686274509803, 0.37254901960784315, 0.34509803921568627], [0.23529411764705882, 0.1803921568627451, 0.14901960784313725], [0.34509803921568627, 0.2549019607843137, 0.16470588235294117]], [[0.39215686274509803, 0.30980392156862746, 0.21568627450980393], [0.38823529411764707, 0.3215686274509804, 0.23529411764705882], [0.44313725490196076, 0.4, 0.35294117647058826], [0.5019607843137255, 0.4823529411764706, 0.4745098039215686], [0.47843137254901963, 0.47058823529411764, 0.4627450980392157], [0.5058823529411764, 0.49019607843137253, 0.47058823529411764], [0.47058823529411764, 0.4588235294117647, 0.4470588235294118], [0.5411764705882353, 0.5450980392156862, 0.5529411764705883], [0.615686274509804, 0.6313725490196078, 0.6431372549019608], [0.7411764705882353, 0.7529411764705882, 0.7647058823529411], [0.8274509803921568, 0.8313725490196079, 0.8431372549019608], [0.796078431372549, 0.8235294117647058, 0.8274509803921568], [0.7490196078431373, 0.7686274509803922, 0.7764705882352941], [0.7137254901960784, 0.7294117647058823, 0.7411764705882353], [0.7490196078431373, 0.7568627450980392, 0.7686274509803922], [0.7411764705882353, 0.7490196078431373, 0.7568627450980392], [0.7058823529411765, 0.7058823529411765, 0.7176470588235294], [0.6078431372549019, 0.6078431372549019, 0.6], [0.5411764705882353, 0.5411764705882353, 0.5372549019607843], [0.5725490196078431, 0.5725490196078431, 0.5725490196078431], [0.5686274509803921, 0.5764705882352941, 0.5843137254901961], [0.5333333333333333, 0.5333333333333333, 0.5333333333333333], [0.2823529411764706, 0.25882352941176473, 0.23921568627450981], [0.30196078431372547, 0.2196078431372549, 0.15294117647058825], [0.3568627450980392, 0.2627450980392157, 0.19215686274509805], [0.3607843137254902, 0.3058823529411765, 0.2627450980392157], [0.4823529411764706, 0.4549019607843137, 0.4392156862745098], [0.32941176470588235, 0.30196078431372547, 0.2901960784313726], [0.2196078431372549, 0.18823529411764706, 0.16862745098039217], [0.3215686274509804, 0.27450980392156865, 0.22745098039215686], [0.2901960784313726, 0.24313725490196078, 0.2196078431372549], [0.28627450980392155, 0.22745098039215686, 0.16862745098039217]], [[0.403921568627451, 0.2980392156862745, 0.21568627450980393], [0.396078431372549, 0.2980392156862745, 0.2196078431372549], [0.36470588235294116, 0.28627450980392155, 0.21176470588235294], [0.39215686274509803, 0.3411764705882353, 0.28627450980392155], [0.4823529411764706, 0.45098039215686275, 0.4196078431372549], [0.5294117647058824, 0.49411764705882355, 0.4745098039215686], [0.4823529411764706, 0.4666666666666667, 0.4549019607843137], [0.5215686274509804, 0.5333333333333333, 0.5333333333333333], [0.6274509803921569, 0.6431372549019608, 0.6549019607843137], [0.7176470588235294, 0.7294117647058823, 0.7333333333333333], [0.8156862745098039, 0.8235294117647058, 0.8156862745098039], [0.8392156862745098, 0.8627450980392157, 0.8549019607843137], [0.7450980392156863, 0.7568627450980392, 0.7686274509803922], [0.7019607843137254, 0.7098039215686275, 0.7215686274509804], [0.6666666666666666, 0.6666666666666666, 0.6666666666666666], [0.6901960784313725, 0.6901960784313725, 0.6862745098039216], [0.6627450980392157, 0.6627450980392157, 0.6627450980392157], [0.6313725490196078, 0.6313725490196078, 0.6392156862745098], [0.6039215686274509, 0.6039215686274509, 0.6196078431372549], [0.5843137254901961, 0.596078431372549, 0.596078431372549], [0.5647058823529412, 0.5647058823529412, 0.5764705882352941], [0.43137254901960786, 0.41568627450980394, 0.41568627450980394], [0.23137254901960785, 0.18823529411764706, 0.1568627450980392], [0.34509803921568627, 0.25098039215686274, 0.17647058823529413], [0.3568627450980392, 0.2549019607843137, 0.17647058823529413], [0.3568627450980392, 0.2901960784313726, 0.2235294117647059], [0.396078431372549, 0.35294117647058826, 0.30196078431372547], [0.30196078431372547, 0.25882352941176473, 0.24705882352941178], [0.26666666666666666, 0.21568627450980393, 0.19215686274509805], [0.2823529411764706, 0.20784313725490197, 0.14901960784313725], [0.3568627450980392, 0.29411764705882354, 0.25882352941176473], [0.30980392156862746, 0.23529411764705882, 0.16470588235294117]], [[0.396078431372549, 0.29411764705882354, 0.21568627450980393], [0.39215686274509803, 0.29411764705882354, 0.2196078431372549], [0.38823529411764707, 0.29411764705882354, 0.21176470588235294], [0.396078431372549, 0.30980392156862746, 0.23137254901960785], [0.43529411764705883, 0.3686274509803922, 0.2980392156862745], [0.44313725490196076, 0.3803921568627451, 0.32941176470588235], [0.47843137254901963, 0.4470588235294118, 0.42745098039215684], [0.5686274509803921, 0.5843137254901961, 0.5803921568627451], [0.6313725490196078, 0.6470588235294118, 0.6431372549019608], [0.6901960784313725, 0.7019607843137254, 0.6980392156862745], [0.8313725490196079, 0.8313725490196079, 0.8313725490196079], [0.8352941176470589, 0.8352941176470589, 0.8313725490196079], [0.7725490196078432, 0.7686274509803922, 0.788235294117647], [0.6941176470588235, 0.6941176470588235, 0.7098039215686275], [0.6705882352941176, 0.6705882352941176, 0.6666666666666666], [0.7019607843137254, 0.6980392156862745, 0.7019607843137254], [0.6862745098039216, 0.6823529411764706, 0.6980392156862745], [0.6352941176470588, 0.6313725490196078, 0.6509803921568628], [0.592156862745098, 0.5882352941176471, 0.6078431372549019], [0.5215686274509804, 0.5254901960784314, 0.5098039215686274], [0.5019607843137255, 0.5058823529411764, 0.5176470588235295], [0.2901960784313726, 0.25882352941176473, 0.2549019607843137], [0.2823529411764706, 0.2, 0.1568627450980392], [0.36470588235294116, 0.2627450980392157, 0.1843137254901961], [0.3333333333333333, 0.24705882352941178, 0.1607843137254902], [0.34901960784313724, 0.2784313725490196, 0.2], [0.3764705882352941, 0.2980392156862745, 0.23137254901960785], [0.3137254901960784, 0.23529411764705882, 0.19607843137254902], [0.29411764705882354, 0.21176470588235294, 0.16470588235294117], [0.3411764705882353, 0.2627450980392157, 0.2], [0.3764705882352941, 0.2823529411764706, 0.20392156862745098], [0.3254901960784314, 0.21176470588235294, 0.13725490196078433]], [[0.396078431372549, 0.2980392156862745, 0.2196078431372549], [0.4, 0.30196078431372547, 0.2235294117647059], [0.40784313725490196, 0.30980392156862746, 0.23137254901960785], [0.403921568627451, 0.3176470588235294, 0.23137254901960785], [0.3764705882352941, 0.28627450980392155, 0.2], [0.39215686274509803, 0.2980392156862745, 0.21568627450980393], [0.47843137254901963, 0.43137254901960786, 0.396078431372549], [0.5882352941176471, 0.592156862745098, 0.596078431372549], [0.5843137254901961, 0.6039215686274509, 0.6], [0.6588235294117647, 0.6666666666666666, 0.6705882352941176], [0.7607843137254902, 0.7568627450980392, 0.7803921568627451], [0.7529411764705882, 0.7529411764705882, 0.7647058823529411], [0.7450980392156863, 0.7411764705882353, 0.7647058823529411], [0.6862745098039216, 0.6823529411764706, 0.6980392156862745], [0.6352941176470588, 0.6352941176470588, 0.6313725490196078], [0.6352941176470588, 0.6352941176470588, 0.6392156862745098], [0.6470588235294118, 0.6431372549019608, 0.6627450980392157], [0.615686274509804, 0.611764705882353, 0.6313725490196078], [0.5607843137254902, 0.5764705882352941, 0.5843137254901961], [0.4823529411764706, 0.4745098039215686, 0.4823529411764706], [0.3843137254901961, 0.36470588235294116, 0.34509803921568627], [0.2784313725490196, 0.21568627450980393, 0.17254901960784313], [0.34509803921568627, 0.23921568627450981, 0.1803921568627451], [0.37254901960784315, 0.27450980392156865, 0.19607843137254902], [0.37254901960784315, 0.2784313725490196, 0.19215686274509805], [0.37254901960784315, 0.2823529411764706, 0.19607843137254902], [0.3764705882352941, 0.28627450980392155, 0.2], [0.30980392156862746, 0.22745098039215686, 0.16470588235294117], [0.35294117647058826, 0.27058823529411763, 0.2], [0.35294117647058826, 0.2784313725490196, 0.19607843137254902], [0.35294117647058826, 0.2549019607843137, 0.16470588235294117], [0.23921568627450981, 0.1607843137254902, 0.11764705882352941]], [[0.39215686274509803, 0.2901960784313726, 0.2196078431372549], [0.4, 0.2980392156862745, 0.23137254901960785], [0.4117647058823529, 0.3137254901960784, 0.23529411764705882], [0.40784313725490196, 0.3215686274509804, 0.2235294117647059], [0.403921568627451, 0.3058823529411765, 0.21176470588235294], [0.403921568627451, 0.2980392156862745, 0.21176470588235294], [0.4588235294117647, 0.403921568627451, 0.35294117647058826], [0.5843137254901961, 0.5843137254901961, 0.5882352941176471], [0.6039215686274509, 0.615686274509804, 0.6196078431372549], [0.6431372549019608, 0.6627450980392157, 0.6666666666666666], [0.7019607843137254, 0.7098039215686275, 0.7333333333333333], [0.6627450980392157, 0.6705882352941176, 0.6862745098039216], [0.6627450980392157, 0.6627450980392157, 0.6705882352941176], [0.6784313725490196, 0.6784313725490196, 0.6823529411764706], [0.6470588235294118, 0.6470588235294118, 0.6431372549019608], [0.596078431372549, 0.596078431372549, 0.6], [0.6, 0.596078431372549, 0.6196078431372549], [0.6352941176470588, 0.6470588235294118, 0.6705882352941176], [0.5843137254901961, 0.6, 0.615686274509804], [0.44313725490196076, 0.42745098039215684, 0.43137254901960786], [0.2901960784313726, 0.23529411764705882, 0.1843137254901961], [0.36470588235294116, 0.27058823529411763, 0.16862745098039217], [0.3803921568627451, 0.2823529411764706, 0.18823529411764706], [0.39215686274509803, 0.29411764705882354, 0.21176470588235294], [0.37254901960784315, 0.27450980392156865, 0.1843137254901961], [0.36470588235294116, 0.26666666666666666, 0.1803921568627451], [0.37254901960784315, 0.27450980392156865, 0.2], [0.30980392156862746, 0.22745098039215686, 0.1803921568627451], [0.3411764705882353, 0.25882352941176473, 0.20784313725490197], [0.3686274509803922, 0.2823529411764706, 0.1843137254901961], [0.3058823529411765, 0.2235294117647059, 0.13725490196078433], [0.14901960784313725, 0.11764705882352941, 0.09803921568627451]], [[0.396078431372549, 0.2901960784313726, 0.22745098039215686], [0.4, 0.30196078431372547, 0.23529411764705882], [0.396078431372549, 0.2980392156862745, 0.21568627450980393], [0.40784313725490196, 0.30980392156862746, 0.23529411764705882], [0.4196078431372549, 0.3254901960784314, 0.23137254901960785], [0.40784313725490196, 0.3058823529411765, 0.20784313725490197], [0.4627450980392157, 0.4117647058823529, 0.3568627450980392], [0.5882352941176471, 0.592156862745098, 0.5803921568627451], [0.6509803921568628, 0.6588235294117647, 0.6705882352941176], [0.6078431372549019, 0.6313725490196078, 0.6431372549019608], [0.6392156862745098, 0.6588235294117647, 0.6666666666666666], [0.6078431372549019, 0.6235294117647059, 0.6313725490196078], [0.5882352941176471, 0.5882352941176471, 0.5882352941176471], [0.6039215686274509, 0.6039215686274509, 0.6039215686274509], [0.592156862745098, 0.592156862745098, 0.592156862745098], [0.592156862745098, 0.592156862745098, 0.592156862745098], [0.5764705882352941, 0.592156862745098, 0.5843137254901961], [0.5607843137254902, 0.5647058823529412, 0.5568627450980392], [0.5490196078431373, 0.5254901960784314, 0.5254901960784314], [0.3254901960784314, 0.2823529411764706, 0.2549019607843137], [0.33725490196078434, 0.27058823529411763, 0.2], [0.39215686274509803, 0.2823529411764706, 0.1803921568627451], [0.35294117647058826, 0.25882352941176473, 0.16862745098039217], [0.3803921568627451, 0.2901960784313726, 0.19215686274509805], [0.3607843137254902, 0.2627450980392157, 0.17647058823529413], [0.34901960784313724, 0.25098039215686274, 0.17254901960784313], [0.37254901960784315, 0.27450980392156865, 0.19607843137254902], [0.36470588235294116, 0.27450980392156865, 0.18823529411764706], [0.3686274509803922, 0.2784313725490196, 0.19215686274509805], [0.3607843137254902, 0.26666666666666666, 0.1843137254901961], [0.21568627450980393, 0.1568627450980392, 0.10196078431372549], [0.12549019607843137, 0.09411764705882353, 0.08235294117647059]], [[0.4, 0.30196078431372547, 0.2235294117647059], [0.4, 0.30196078431372547, 0.2235294117647059], [0.403921568627451, 0.3058823529411765, 0.22745098039215686], [0.4117647058823529, 0.30980392156862746, 0.23529411764705882], [0.40784313725490196, 0.3137254901960784, 0.2196078431372549], [0.40784313725490196, 0.3058823529411765, 0.21176470588235294], [0.44313725490196076, 0.39215686274509803, 0.3333333333333333], [0.5411764705882353, 0.5450980392156862, 0.5215686274509804], [0.6627450980392157, 0.6705882352941176, 0.6705882352941176], [0.615686274509804, 0.6352941176470588, 0.6627450980392157], [0.5372549019607843, 0.5529411764705883, 0.5686274509803921], [0.5882352941176471, 0.6, 0.611764705882353], [0.41568627450980394, 0.41568627450980394, 0.41568627450980394], [0.4, 0.4, 0.396078431372549], [0.47843137254901963, 0.47843137254901963, 0.47843137254901963], [0.5019607843137255, 0.5019607843137255, 0.5019607843137255], [0.5215686274509804, 0.5137254901960784, 0.5058823529411764], [0.403921568627451, 0.39215686274509803, 0.3843137254901961], [0.3843137254901961, 0.34509803921568627, 0.3137254901960784], [0.32941176470588235, 0.2549019607843137, 0.1843137254901961], [0.403921568627451, 0.30980392156862746, 0.20784313725490197], [0.4117647058823529, 0.30980392156862746, 0.21176470588235294], [0.3411764705882353, 0.25882352941176473, 0.17647058823529413], [0.3803921568627451, 0.28627450980392155, 0.19215686274509805], [0.3843137254901961, 0.28627450980392155, 0.2], [0.37254901960784315, 0.27450980392156865, 0.19607843137254902], [0.3764705882352941, 0.27450980392156865, 0.19607843137254902], [0.37254901960784315, 0.26666666666666666, 0.17647058823529413], [0.403921568627451, 0.2901960784313726, 0.2], [0.27058823529411763, 0.1843137254901961, 0.13333333333333333], [0.13725490196078433, 0.10588235294117647, 0.09411764705882353], [0.13333333333333333, 0.10196078431372549, 0.09411764705882353]], [[0.396078431372549, 0.29411764705882354, 0.21568627450980393], [0.4, 0.30196078431372547, 0.2235294117647059], [0.4117647058823529, 0.3137254901960784, 0.2235294117647059], [0.40784313725490196, 0.30980392156862746, 0.21568627450980393], [0.41568627450980394, 0.3215686274509804, 0.22745098039215686], [0.396078431372549, 0.2980392156862745, 0.20392156862745098], [0.4235294117647059, 0.3568627450980392, 0.2901960784313726], [0.48627450980392156, 0.4823529411764706, 0.4666666666666667], [0.596078431372549, 0.6, 0.6], [0.6431372549019608, 0.6470588235294118, 0.6549019607843137], [0.5254901960784314, 0.5254901960784314, 0.5490196078431373], [0.47843137254901963, 0.4745098039215686, 0.49019607843137253], [0.26666666666666666, 0.25882352941176473, 0.25882352941176473], [0.25882352941176473, 0.25098039215686274, 0.23529411764705882], [0.43137254901960786, 0.41568627450980394, 0.4], [0.47843137254901963, 0.4745098039215686, 0.4745098039215686], [0.4980392156862745, 0.49019607843137253, 0.4980392156862745], [0.48627450980392156, 0.4666666666666667, 0.4745098039215686], [0.49411764705882355, 0.47843137254901963, 0.45098039215686275], [0.4588235294117647, 0.3803921568627451, 0.30196078431372547], [0.4196078431372549, 0.30196078431372547, 0.19215686274509805], [0.41568627450980394, 0.3254901960784314, 0.2196078431372549], [0.403921568627451, 0.3215686274509804, 0.22745098039215686], [0.4196078431372549, 0.3215686274509804, 0.22745098039215686], [0.3843137254901961, 0.29411764705882354, 0.20784313725490197], [0.37254901960784315, 0.27450980392156865, 0.2], [0.39215686274509803, 0.2901960784313726, 0.20784313725490197], [0.39215686274509803, 0.27450980392156865, 0.18823529411764706], [0.3568627450980392, 0.24705882352941178, 0.17254901960784313], [0.17254901960784313, 0.12549019607843137, 0.10588235294117647], [0.13725490196078433, 0.10980392156862745, 0.10196078431372549], [0.1450980392156863, 0.11372549019607843, 0.10588235294117647]]]]}'"
            ],
            "application/vnd.google.colaboratory.intrinsic+json": {
              "type": "string"
            }
          },
          "metadata": {},
          "execution_count": 122
        }
      ]
    },
    {
      "cell_type": "markdown",
      "metadata": {
        "id": "KZDKjyfbPoIa"
      },
      "source": [
        "### Enviando a primeira requisição POST para o modelo"
      ]
    },
    {
      "cell_type": "code",
      "source": [
        "headers = {\"content-type\": \"application/json\"}"
      ],
      "metadata": {
        "id": "Z0Rw9SmCr4cR"
      },
      "execution_count": 123,
      "outputs": []
    },
    {
      "cell_type": "code",
      "source": [
        "json_response = requests.post(url='http://localhost:8501/v1/models/cifar10:predict', data=data, headers=headers)"
      ],
      "metadata": {
        "id": "EhKxNLdzsHvd"
      },
      "execution_count": 124,
      "outputs": []
    },
    {
      "cell_type": "code",
      "source": [
        "json_response"
      ],
      "metadata": {
        "colab": {
          "base_uri": "https://localhost:8080/"
        },
        "id": "wpXmNr5Xsm7x",
        "outputId": "74c9c352-be2a-4570-dfc7-2cdfffcc2ad6"
      },
      "execution_count": 125,
      "outputs": [
        {
          "output_type": "execute_result",
          "data": {
            "text/plain": [
              "<Response [200]>"
            ]
          },
          "metadata": {},
          "execution_count": 125
        }
      ]
    },
    {
      "cell_type": "code",
      "source": [
        "predictions = json.loads(json_response.text)['predictions']"
      ],
      "metadata": {
        "id": "hqdE_7-Xs3Gu"
      },
      "execution_count": 126,
      "outputs": []
    },
    {
      "cell_type": "code",
      "source": [
        "predictions"
      ],
      "metadata": {
        "colab": {
          "base_uri": "https://localhost:8080/"
        },
        "id": "E1SFFUlktIFr",
        "outputId": "766b8494-cfc9-4bc6-987a-2979b02ab5c6"
      },
      "execution_count": 127,
      "outputs": [
        {
          "output_type": "execute_result",
          "data": {
            "text/plain": [
              "[[2.02303695e-11,\n",
              "  1.99661532e-09,\n",
              "  3.45605122e-06,\n",
              "  0.00115907553,\n",
              "  1.3472393e-08,\n",
              "  0.998357475,\n",
              "  0.000343655352,\n",
              "  0.000136258488,\n",
              "  8.43242712e-14,\n",
              "  1.38379808e-10]]"
            ]
          },
          "metadata": {},
          "execution_count": 127
        }
      ]
    },
    {
      "cell_type": "code",
      "source": [
        "plt.imshow(X_test[random_image])"
      ],
      "metadata": {
        "colab": {
          "base_uri": "https://localhost:8080/",
          "height": 447
        },
        "id": "ZA6bpv8RtHvo",
        "outputId": "86b92b81-5170-455f-be2f-e4829d2a1cfd"
      },
      "execution_count": 128,
      "outputs": [
        {
          "output_type": "execute_result",
          "data": {
            "text/plain": [
              "<matplotlib.image.AxesImage at 0x7dd71c327010>"
            ]
          },
          "metadata": {},
          "execution_count": 128
        },
        {
          "output_type": "display_data",
          "data": {
            "text/plain": [
              "<Figure size 640x480 with 1 Axes>"
            ],
            "image/png": "[encoded data removed]"
          },
          "metadata": {}
        }
      ]
    },
    {
      "cell_type": "code",
      "source": [
        "class_name[np.argmax(predictions[0])]"
      ],
      "metadata": {
        "colab": {
          "base_uri": "https://localhost:8080/",
          "height": 35
        },
        "id": "djchoQQOtfY-",
        "outputId": "175fd91c-1eb2-45a2-9407-8d574d18f468"
      },
      "execution_count": 129,
      "outputs": [
        {
          "output_type": "execute_result",
          "data": {
            "text/plain": [
              "'dog'"
            ],
            "application/vnd.google.colaboratory.intrinsic+json": {
              "type": "string"
            }
          },
          "metadata": {},
          "execution_count": 129
        }
      ]
    },
    {
      "cell_type": "markdown",
      "metadata": {
        "id": "OVN6T3tFR_IQ"
      },
      "source": [
        "## Etapa 8: Enviando a requisição POST para um modelo específico que está armazendo no servidor"
      ]
    },
    {
      "cell_type": "code",
      "source": [
        "specif_json_response = requests.post(url='http://localhost:8501/v1/models/cifar10/versions/1:predict', data=data, headers=headers)"
      ],
      "metadata": {
        "id": "B8kbiJDUueyj"
      },
      "execution_count": 130,
      "outputs": []
    },
    {
      "cell_type": "code",
      "source": [
        "specif_json_response"
      ],
      "metadata": {
        "colab": {
          "base_uri": "https://localhost:8080/"
        },
        "id": "oNs0gZ4puo_G",
        "outputId": "6902a936-c14d-4d25-912d-024c066aec29"
      },
      "execution_count": 131,
      "outputs": [
        {
          "output_type": "execute_result",
          "data": {
            "text/plain": [
              "<Response [200]>"
            ]
          },
          "metadata": {},
          "execution_count": 131
        }
      ]
    },
    {
      "cell_type": "code",
      "source": [
        "predictions = json.loads(json_response.text)['predictions']"
      ],
      "metadata": {
        "id": "RAXKMSMjup2G"
      },
      "execution_count": 132,
      "outputs": []
    },
    {
      "cell_type": "code",
      "source": [
        "plt.imshow(X_test[random_image])\n",
        "plt.show();\n",
        "class_name[np.argmax(predictions[0])]"
      ],
      "metadata": {
        "colab": {
          "base_uri": "https://localhost:8080/",
          "height": 448
        },
        "id": "qqWaGqA3uu1v",
        "outputId": "bd64ba7d-adcf-42fe-9841-b3c853add6e7"
      },
      "execution_count": 133,
      "outputs": [
        {
          "output_type": "display_data",
          "data": {
            "text/plain": [
              "<Figure size 640x480 with 1 Axes>"
            ],
            "image/png": "[encoded data removed]"
          },
          "metadata": {}
        },
        {
          "output_type": "execute_result",
          "data": {
            "text/plain": [
              "'dog'"
            ],
            "application/vnd.google.colaboratory.intrinsic+json": {
              "type": "string"
            }
          },
          "metadata": {},
          "execution_count": 133
        }
      ]
    }
  ]
}